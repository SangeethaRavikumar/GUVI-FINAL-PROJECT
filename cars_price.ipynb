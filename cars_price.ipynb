{
 "cells": [
  {
   "cell_type": "markdown",
   "id": "774da344",
   "metadata": {},
   "source": [
    "# Car price prediction project"
   ]
  },
  {
   "cell_type": "raw",
   "id": "72032e93",
   "metadata": {},
   "source": [
    "# Problem Statement : Car price prediction\n",
    "\n",
    "1.Description:\n",
    "   1.The primary purpose is to design a model for a given dataset and predict the car price with better accuracy.\n",
    "   2.These prediction help companies to raise profits,business objectives,retain and bring in new customers.\n",
    "2. Used ML models\n",
    "        LinearRegression\n",
    "        SGDRegressor\n",
    "        KNN Regressor \n",
    "        DecisionTreeRegressor\n",
    "        RandomForestRegressor\n"
   ]
  },
  {
   "cell_type": "markdown",
   "id": "39f8c2aa",
   "metadata": {},
   "source": [
    "# importing neccessary libraries"
   ]
  },
  {
   "cell_type": "code",
   "execution_count": 1,
   "id": "c19affc8",
   "metadata": {},
   "outputs": [],
   "source": [
    "import pandas as pd\n",
    "import numpy as np\n",
    "import seaborn as sns\n",
    "import matplotlib.pyplot as plt\n",
    "import warnings\n",
    "warnings.filterwarnings(\"ignore\")\n",
    "%matplotlib inline"
   ]
  },
  {
   "cell_type": "markdown",
   "id": "0620232d",
   "metadata": {},
   "source": [
    "# Loading the Dataset"
   ]
  },
  {
   "cell_type": "code",
   "execution_count": 2,
   "id": "4f8e3b77",
   "metadata": {},
   "outputs": [],
   "source": [
    "df = pd.read_csv('cars_price.csv')"
   ]
  },
  {
   "cell_type": "code",
   "execution_count": 3,
   "id": "d26ddf43",
   "metadata": {},
   "outputs": [
    {
     "data": {
      "text/html": [
       "<div>\n",
       "<style scoped>\n",
       "    .dataframe tbody tr th:only-of-type {\n",
       "        vertical-align: middle;\n",
       "    }\n",
       "\n",
       "    .dataframe tbody tr th {\n",
       "        vertical-align: top;\n",
       "    }\n",
       "\n",
       "    .dataframe thead th {\n",
       "        text-align: right;\n",
       "    }\n",
       "</style>\n",
       "<table border=\"1\" class=\"dataframe\">\n",
       "  <thead>\n",
       "    <tr style=\"text-align: right;\">\n",
       "      <th></th>\n",
       "      <th>symboling</th>\n",
       "      <th>normalized-losses</th>\n",
       "      <th>make</th>\n",
       "      <th>fuel-type</th>\n",
       "      <th>aspiration</th>\n",
       "      <th>num-of-doors</th>\n",
       "      <th>body-style</th>\n",
       "      <th>drive-wheels</th>\n",
       "      <th>engine-location</th>\n",
       "      <th>wheel-base</th>\n",
       "      <th>...</th>\n",
       "      <th>engine-size</th>\n",
       "      <th>fuel-system</th>\n",
       "      <th>bore</th>\n",
       "      <th>stroke</th>\n",
       "      <th>compression-ratio</th>\n",
       "      <th>horsepower</th>\n",
       "      <th>peak-rpm</th>\n",
       "      <th>city-mpg</th>\n",
       "      <th>highway-mpg</th>\n",
       "      <th>price</th>\n",
       "    </tr>\n",
       "  </thead>\n",
       "  <tbody>\n",
       "    <tr>\n",
       "      <th>0</th>\n",
       "      <td>3</td>\n",
       "      <td>?</td>\n",
       "      <td>alfa-romero</td>\n",
       "      <td>gas</td>\n",
       "      <td>std</td>\n",
       "      <td>two</td>\n",
       "      <td>convertible</td>\n",
       "      <td>rwd</td>\n",
       "      <td>front</td>\n",
       "      <td>88.6</td>\n",
       "      <td>...</td>\n",
       "      <td>130</td>\n",
       "      <td>mpfi</td>\n",
       "      <td>3.47</td>\n",
       "      <td>2.68</td>\n",
       "      <td>9.0</td>\n",
       "      <td>111</td>\n",
       "      <td>5000</td>\n",
       "      <td>21</td>\n",
       "      <td>27</td>\n",
       "      <td>13495</td>\n",
       "    </tr>\n",
       "    <tr>\n",
       "      <th>1</th>\n",
       "      <td>3</td>\n",
       "      <td>?</td>\n",
       "      <td>alfa-romero</td>\n",
       "      <td>gas</td>\n",
       "      <td>std</td>\n",
       "      <td>two</td>\n",
       "      <td>convertible</td>\n",
       "      <td>rwd</td>\n",
       "      <td>front</td>\n",
       "      <td>88.6</td>\n",
       "      <td>...</td>\n",
       "      <td>130</td>\n",
       "      <td>mpfi</td>\n",
       "      <td>3.47</td>\n",
       "      <td>2.68</td>\n",
       "      <td>9.0</td>\n",
       "      <td>111</td>\n",
       "      <td>5000</td>\n",
       "      <td>21</td>\n",
       "      <td>27</td>\n",
       "      <td>16500</td>\n",
       "    </tr>\n",
       "    <tr>\n",
       "      <th>2</th>\n",
       "      <td>1</td>\n",
       "      <td>?</td>\n",
       "      <td>alfa-romero</td>\n",
       "      <td>gas</td>\n",
       "      <td>std</td>\n",
       "      <td>two</td>\n",
       "      <td>hatchback</td>\n",
       "      <td>rwd</td>\n",
       "      <td>front</td>\n",
       "      <td>94.5</td>\n",
       "      <td>...</td>\n",
       "      <td>152</td>\n",
       "      <td>mpfi</td>\n",
       "      <td>2.68</td>\n",
       "      <td>3.47</td>\n",
       "      <td>9.0</td>\n",
       "      <td>154</td>\n",
       "      <td>5000</td>\n",
       "      <td>19</td>\n",
       "      <td>26</td>\n",
       "      <td>16500</td>\n",
       "    </tr>\n",
       "    <tr>\n",
       "      <th>3</th>\n",
       "      <td>2</td>\n",
       "      <td>164</td>\n",
       "      <td>audi</td>\n",
       "      <td>gas</td>\n",
       "      <td>std</td>\n",
       "      <td>four</td>\n",
       "      <td>sedan</td>\n",
       "      <td>fwd</td>\n",
       "      <td>front</td>\n",
       "      <td>99.8</td>\n",
       "      <td>...</td>\n",
       "      <td>109</td>\n",
       "      <td>mpfi</td>\n",
       "      <td>3.19</td>\n",
       "      <td>3.4</td>\n",
       "      <td>10.0</td>\n",
       "      <td>102</td>\n",
       "      <td>5500</td>\n",
       "      <td>24</td>\n",
       "      <td>30</td>\n",
       "      <td>13950</td>\n",
       "    </tr>\n",
       "    <tr>\n",
       "      <th>4</th>\n",
       "      <td>2</td>\n",
       "      <td>164</td>\n",
       "      <td>audi</td>\n",
       "      <td>gas</td>\n",
       "      <td>std</td>\n",
       "      <td>four</td>\n",
       "      <td>sedan</td>\n",
       "      <td>4wd</td>\n",
       "      <td>front</td>\n",
       "      <td>99.4</td>\n",
       "      <td>...</td>\n",
       "      <td>136</td>\n",
       "      <td>mpfi</td>\n",
       "      <td>3.19</td>\n",
       "      <td>3.4</td>\n",
       "      <td>8.0</td>\n",
       "      <td>115</td>\n",
       "      <td>5500</td>\n",
       "      <td>18</td>\n",
       "      <td>22</td>\n",
       "      <td>17450</td>\n",
       "    </tr>\n",
       "    <tr>\n",
       "      <th>...</th>\n",
       "      <td>...</td>\n",
       "      <td>...</td>\n",
       "      <td>...</td>\n",
       "      <td>...</td>\n",
       "      <td>...</td>\n",
       "      <td>...</td>\n",
       "      <td>...</td>\n",
       "      <td>...</td>\n",
       "      <td>...</td>\n",
       "      <td>...</td>\n",
       "      <td>...</td>\n",
       "      <td>...</td>\n",
       "      <td>...</td>\n",
       "      <td>...</td>\n",
       "      <td>...</td>\n",
       "      <td>...</td>\n",
       "      <td>...</td>\n",
       "      <td>...</td>\n",
       "      <td>...</td>\n",
       "      <td>...</td>\n",
       "      <td>...</td>\n",
       "    </tr>\n",
       "    <tr>\n",
       "      <th>200</th>\n",
       "      <td>-1</td>\n",
       "      <td>95</td>\n",
       "      <td>volvo</td>\n",
       "      <td>gas</td>\n",
       "      <td>std</td>\n",
       "      <td>four</td>\n",
       "      <td>sedan</td>\n",
       "      <td>rwd</td>\n",
       "      <td>front</td>\n",
       "      <td>109.1</td>\n",
       "      <td>...</td>\n",
       "      <td>141</td>\n",
       "      <td>mpfi</td>\n",
       "      <td>3.78</td>\n",
       "      <td>3.15</td>\n",
       "      <td>9.5</td>\n",
       "      <td>114</td>\n",
       "      <td>5400</td>\n",
       "      <td>23</td>\n",
       "      <td>28</td>\n",
       "      <td>16845</td>\n",
       "    </tr>\n",
       "    <tr>\n",
       "      <th>201</th>\n",
       "      <td>-1</td>\n",
       "      <td>95</td>\n",
       "      <td>volvo</td>\n",
       "      <td>gas</td>\n",
       "      <td>turbo</td>\n",
       "      <td>four</td>\n",
       "      <td>sedan</td>\n",
       "      <td>rwd</td>\n",
       "      <td>front</td>\n",
       "      <td>109.1</td>\n",
       "      <td>...</td>\n",
       "      <td>141</td>\n",
       "      <td>mpfi</td>\n",
       "      <td>3.78</td>\n",
       "      <td>3.15</td>\n",
       "      <td>8.7</td>\n",
       "      <td>160</td>\n",
       "      <td>5300</td>\n",
       "      <td>19</td>\n",
       "      <td>25</td>\n",
       "      <td>19045</td>\n",
       "    </tr>\n",
       "    <tr>\n",
       "      <th>202</th>\n",
       "      <td>-1</td>\n",
       "      <td>95</td>\n",
       "      <td>volvo</td>\n",
       "      <td>gas</td>\n",
       "      <td>std</td>\n",
       "      <td>four</td>\n",
       "      <td>sedan</td>\n",
       "      <td>rwd</td>\n",
       "      <td>front</td>\n",
       "      <td>109.1</td>\n",
       "      <td>...</td>\n",
       "      <td>173</td>\n",
       "      <td>mpfi</td>\n",
       "      <td>3.58</td>\n",
       "      <td>2.87</td>\n",
       "      <td>8.8</td>\n",
       "      <td>134</td>\n",
       "      <td>5500</td>\n",
       "      <td>18</td>\n",
       "      <td>23</td>\n",
       "      <td>21485</td>\n",
       "    </tr>\n",
       "    <tr>\n",
       "      <th>203</th>\n",
       "      <td>-1</td>\n",
       "      <td>95</td>\n",
       "      <td>volvo</td>\n",
       "      <td>diesel</td>\n",
       "      <td>turbo</td>\n",
       "      <td>four</td>\n",
       "      <td>sedan</td>\n",
       "      <td>rwd</td>\n",
       "      <td>front</td>\n",
       "      <td>109.1</td>\n",
       "      <td>...</td>\n",
       "      <td>145</td>\n",
       "      <td>idi</td>\n",
       "      <td>3.01</td>\n",
       "      <td>3.4</td>\n",
       "      <td>23.0</td>\n",
       "      <td>106</td>\n",
       "      <td>4800</td>\n",
       "      <td>26</td>\n",
       "      <td>27</td>\n",
       "      <td>22470</td>\n",
       "    </tr>\n",
       "    <tr>\n",
       "      <th>204</th>\n",
       "      <td>-1</td>\n",
       "      <td>95</td>\n",
       "      <td>volvo</td>\n",
       "      <td>gas</td>\n",
       "      <td>turbo</td>\n",
       "      <td>four</td>\n",
       "      <td>sedan</td>\n",
       "      <td>rwd</td>\n",
       "      <td>front</td>\n",
       "      <td>109.1</td>\n",
       "      <td>...</td>\n",
       "      <td>141</td>\n",
       "      <td>mpfi</td>\n",
       "      <td>3.78</td>\n",
       "      <td>3.15</td>\n",
       "      <td>9.5</td>\n",
       "      <td>114</td>\n",
       "      <td>5400</td>\n",
       "      <td>19</td>\n",
       "      <td>25</td>\n",
       "      <td>22625</td>\n",
       "    </tr>\n",
       "  </tbody>\n",
       "</table>\n",
       "<p>205 rows × 26 columns</p>\n",
       "</div>"
      ],
      "text/plain": [
       "     symboling normalized-losses         make fuel-type aspiration  \\\n",
       "0            3                 ?  alfa-romero       gas        std   \n",
       "1            3                 ?  alfa-romero       gas        std   \n",
       "2            1                 ?  alfa-romero       gas        std   \n",
       "3            2               164         audi       gas        std   \n",
       "4            2               164         audi       gas        std   \n",
       "..         ...               ...          ...       ...        ...   \n",
       "200         -1                95        volvo       gas        std   \n",
       "201         -1                95        volvo       gas      turbo   \n",
       "202         -1                95        volvo       gas        std   \n",
       "203         -1                95        volvo    diesel      turbo   \n",
       "204         -1                95        volvo       gas      turbo   \n",
       "\n",
       "    num-of-doors   body-style drive-wheels engine-location  wheel-base  ...  \\\n",
       "0            two  convertible          rwd           front        88.6  ...   \n",
       "1            two  convertible          rwd           front        88.6  ...   \n",
       "2            two    hatchback          rwd           front        94.5  ...   \n",
       "3           four        sedan          fwd           front        99.8  ...   \n",
       "4           four        sedan          4wd           front        99.4  ...   \n",
       "..           ...          ...          ...             ...         ...  ...   \n",
       "200         four        sedan          rwd           front       109.1  ...   \n",
       "201         four        sedan          rwd           front       109.1  ...   \n",
       "202         four        sedan          rwd           front       109.1  ...   \n",
       "203         four        sedan          rwd           front       109.1  ...   \n",
       "204         four        sedan          rwd           front       109.1  ...   \n",
       "\n",
       "     engine-size  fuel-system  bore  stroke compression-ratio horsepower  \\\n",
       "0            130         mpfi  3.47    2.68               9.0        111   \n",
       "1            130         mpfi  3.47    2.68               9.0        111   \n",
       "2            152         mpfi  2.68    3.47               9.0        154   \n",
       "3            109         mpfi  3.19     3.4              10.0        102   \n",
       "4            136         mpfi  3.19     3.4               8.0        115   \n",
       "..           ...          ...   ...     ...               ...        ...   \n",
       "200          141         mpfi  3.78    3.15               9.5        114   \n",
       "201          141         mpfi  3.78    3.15               8.7        160   \n",
       "202          173         mpfi  3.58    2.87               8.8        134   \n",
       "203          145          idi  3.01     3.4              23.0        106   \n",
       "204          141         mpfi  3.78    3.15               9.5        114   \n",
       "\n",
       "     peak-rpm city-mpg highway-mpg  price  \n",
       "0        5000       21          27  13495  \n",
       "1        5000       21          27  16500  \n",
       "2        5000       19          26  16500  \n",
       "3        5500       24          30  13950  \n",
       "4        5500       18          22  17450  \n",
       "..        ...      ...         ...    ...  \n",
       "200      5400       23          28  16845  \n",
       "201      5300       19          25  19045  \n",
       "202      5500       18          23  21485  \n",
       "203      4800       26          27  22470  \n",
       "204      5400       19          25  22625  \n",
       "\n",
       "[205 rows x 26 columns]"
      ]
     },
     "execution_count": 3,
     "metadata": {},
     "output_type": "execute_result"
    }
   ],
   "source": [
    "df"
   ]
  },
  {
   "cell_type": "code",
   "execution_count": 4,
   "id": "3203e682",
   "metadata": {},
   "outputs": [
    {
     "data": {
      "text/plain": [
       "(205, 26)"
      ]
     },
     "execution_count": 4,
     "metadata": {},
     "output_type": "execute_result"
    }
   ],
   "source": [
    "# shape gives the number of rows and columns in the dataset\n",
    "df.shape"
   ]
  },
  {
   "cell_type": "code",
   "execution_count": 5,
   "id": "50e4ccea",
   "metadata": {},
   "outputs": [
    {
     "data": {
      "text/plain": [
       "5330"
      ]
     },
     "execution_count": 5,
     "metadata": {},
     "output_type": "execute_result"
    }
   ],
   "source": [
    "# returns number od elements in the dataframe\n",
    "df.size"
   ]
  },
  {
   "cell_type": "code",
   "execution_count": 6,
   "id": "bbba9b59",
   "metadata": {},
   "outputs": [
    {
     "data": {
      "text/plain": [
       "Index(['symboling', 'normalized-losses', 'make', 'fuel-type', 'aspiration',\n",
       "       'num-of-doors', 'body-style', 'drive-wheels', 'engine-location',\n",
       "       'wheel-base', 'length', 'width', 'height', 'curb-weight', 'engine-type',\n",
       "       'num-of-cylinders', 'engine-size', 'fuel-system', 'bore', 'stroke',\n",
       "       'compression-ratio', 'horsepower', 'peak-rpm', 'city-mpg',\n",
       "       'highway-mpg', 'price'],\n",
       "      dtype='object')"
      ]
     },
     "execution_count": 6,
     "metadata": {},
     "output_type": "execute_result"
    }
   ],
   "source": [
    "# list of column names\n",
    "df.columns"
   ]
  },
  {
   "cell_type": "markdown",
   "id": "92df8163",
   "metadata": {},
   "source": [
    "# Exploratory Data Analysis"
   ]
  },
  {
   "cell_type": "code",
   "execution_count": 7,
   "id": "f51e32e5",
   "metadata": {},
   "outputs": [
    {
     "data": {
      "text/plain": [
       "symboling              6\n",
       "normalized-losses     52\n",
       "make                  22\n",
       "fuel-type              2\n",
       "aspiration             2\n",
       "num-of-doors           3\n",
       "body-style             5\n",
       "drive-wheels           3\n",
       "engine-location        2\n",
       "wheel-base            53\n",
       "length                75\n",
       "width                 44\n",
       "height                49\n",
       "curb-weight          171\n",
       "engine-type            7\n",
       "num-of-cylinders       7\n",
       "engine-size           44\n",
       "fuel-system            8\n",
       "bore                  39\n",
       "stroke                37\n",
       "compression-ratio     32\n",
       "horsepower            60\n",
       "peak-rpm              24\n",
       "city-mpg              29\n",
       "highway-mpg           30\n",
       "price                187\n",
       "dtype: int64"
      ]
     },
     "execution_count": 7,
     "metadata": {},
     "output_type": "execute_result"
    }
   ],
   "source": [
    "# returns the numder of unique values in the column\n",
    "df.nunique()"
   ]
  },
  {
   "cell_type": "code",
   "execution_count": 8,
   "id": "4ae0c8ee",
   "metadata": {},
   "outputs": [
    {
     "data": {
      "text/html": [
       "<div>\n",
       "<style scoped>\n",
       "    .dataframe tbody tr th:only-of-type {\n",
       "        vertical-align: middle;\n",
       "    }\n",
       "\n",
       "    .dataframe tbody tr th {\n",
       "        vertical-align: top;\n",
       "    }\n",
       "\n",
       "    .dataframe thead th {\n",
       "        text-align: right;\n",
       "    }\n",
       "</style>\n",
       "<table border=\"1\" class=\"dataframe\">\n",
       "  <thead>\n",
       "    <tr style=\"text-align: right;\">\n",
       "      <th></th>\n",
       "      <th>count</th>\n",
       "      <th>mean</th>\n",
       "      <th>std</th>\n",
       "      <th>min</th>\n",
       "      <th>25%</th>\n",
       "      <th>50%</th>\n",
       "      <th>75%</th>\n",
       "      <th>max</th>\n",
       "    </tr>\n",
       "  </thead>\n",
       "  <tbody>\n",
       "    <tr>\n",
       "      <th>symboling</th>\n",
       "      <td>205.0</td>\n",
       "      <td>0.834146</td>\n",
       "      <td>1.245307</td>\n",
       "      <td>-2.0</td>\n",
       "      <td>0.0</td>\n",
       "      <td>1.0</td>\n",
       "      <td>2.0</td>\n",
       "      <td>3.0</td>\n",
       "    </tr>\n",
       "    <tr>\n",
       "      <th>wheel-base</th>\n",
       "      <td>205.0</td>\n",
       "      <td>98.756585</td>\n",
       "      <td>6.021776</td>\n",
       "      <td>86.6</td>\n",
       "      <td>94.5</td>\n",
       "      <td>97.0</td>\n",
       "      <td>102.4</td>\n",
       "      <td>120.9</td>\n",
       "    </tr>\n",
       "    <tr>\n",
       "      <th>length</th>\n",
       "      <td>205.0</td>\n",
       "      <td>174.049268</td>\n",
       "      <td>12.337289</td>\n",
       "      <td>141.1</td>\n",
       "      <td>166.3</td>\n",
       "      <td>173.2</td>\n",
       "      <td>183.1</td>\n",
       "      <td>208.1</td>\n",
       "    </tr>\n",
       "    <tr>\n",
       "      <th>width</th>\n",
       "      <td>205.0</td>\n",
       "      <td>65.907805</td>\n",
       "      <td>2.145204</td>\n",
       "      <td>60.3</td>\n",
       "      <td>64.1</td>\n",
       "      <td>65.5</td>\n",
       "      <td>66.9</td>\n",
       "      <td>72.3</td>\n",
       "    </tr>\n",
       "    <tr>\n",
       "      <th>height</th>\n",
       "      <td>205.0</td>\n",
       "      <td>53.724878</td>\n",
       "      <td>2.443522</td>\n",
       "      <td>47.8</td>\n",
       "      <td>52.0</td>\n",
       "      <td>54.1</td>\n",
       "      <td>55.5</td>\n",
       "      <td>59.8</td>\n",
       "    </tr>\n",
       "    <tr>\n",
       "      <th>curb-weight</th>\n",
       "      <td>205.0</td>\n",
       "      <td>2555.565854</td>\n",
       "      <td>520.680204</td>\n",
       "      <td>1488.0</td>\n",
       "      <td>2145.0</td>\n",
       "      <td>2414.0</td>\n",
       "      <td>2935.0</td>\n",
       "      <td>4066.0</td>\n",
       "    </tr>\n",
       "    <tr>\n",
       "      <th>engine-size</th>\n",
       "      <td>205.0</td>\n",
       "      <td>126.907317</td>\n",
       "      <td>41.642693</td>\n",
       "      <td>61.0</td>\n",
       "      <td>97.0</td>\n",
       "      <td>120.0</td>\n",
       "      <td>141.0</td>\n",
       "      <td>326.0</td>\n",
       "    </tr>\n",
       "    <tr>\n",
       "      <th>compression-ratio</th>\n",
       "      <td>205.0</td>\n",
       "      <td>10.142537</td>\n",
       "      <td>3.972040</td>\n",
       "      <td>7.0</td>\n",
       "      <td>8.6</td>\n",
       "      <td>9.0</td>\n",
       "      <td>9.4</td>\n",
       "      <td>23.0</td>\n",
       "    </tr>\n",
       "    <tr>\n",
       "      <th>city-mpg</th>\n",
       "      <td>205.0</td>\n",
       "      <td>25.219512</td>\n",
       "      <td>6.542142</td>\n",
       "      <td>13.0</td>\n",
       "      <td>19.0</td>\n",
       "      <td>24.0</td>\n",
       "      <td>30.0</td>\n",
       "      <td>49.0</td>\n",
       "    </tr>\n",
       "    <tr>\n",
       "      <th>highway-mpg</th>\n",
       "      <td>205.0</td>\n",
       "      <td>30.751220</td>\n",
       "      <td>6.886443</td>\n",
       "      <td>16.0</td>\n",
       "      <td>25.0</td>\n",
       "      <td>30.0</td>\n",
       "      <td>34.0</td>\n",
       "      <td>54.0</td>\n",
       "    </tr>\n",
       "  </tbody>\n",
       "</table>\n",
       "</div>"
      ],
      "text/plain": [
       "                   count         mean         std     min     25%     50%  \\\n",
       "symboling          205.0     0.834146    1.245307    -2.0     0.0     1.0   \n",
       "wheel-base         205.0    98.756585    6.021776    86.6    94.5    97.0   \n",
       "length             205.0   174.049268   12.337289   141.1   166.3   173.2   \n",
       "width              205.0    65.907805    2.145204    60.3    64.1    65.5   \n",
       "height             205.0    53.724878    2.443522    47.8    52.0    54.1   \n",
       "curb-weight        205.0  2555.565854  520.680204  1488.0  2145.0  2414.0   \n",
       "engine-size        205.0   126.907317   41.642693    61.0    97.0   120.0   \n",
       "compression-ratio  205.0    10.142537    3.972040     7.0     8.6     9.0   \n",
       "city-mpg           205.0    25.219512    6.542142    13.0    19.0    24.0   \n",
       "highway-mpg        205.0    30.751220    6.886443    16.0    25.0    30.0   \n",
       "\n",
       "                      75%     max  \n",
       "symboling             2.0     3.0  \n",
       "wheel-base          102.4   120.9  \n",
       "length              183.1   208.1  \n",
       "width                66.9    72.3  \n",
       "height               55.5    59.8  \n",
       "curb-weight        2935.0  4066.0  \n",
       "engine-size         141.0   326.0  \n",
       "compression-ratio     9.4    23.0  \n",
       "city-mpg             30.0    49.0  \n",
       "highway-mpg          34.0    54.0  "
      ]
     },
     "execution_count": 8,
     "metadata": {},
     "output_type": "execute_result"
    }
   ],
   "source": [
    "# it generates descriptive statistics for all the numerical column\n",
    "df.describe().T"
   ]
  },
  {
   "cell_type": "code",
   "execution_count": 9,
   "id": "93e0b006",
   "metadata": {},
   "outputs": [
    {
     "data": {
      "text/plain": [
       "0"
      ]
     },
     "execution_count": 9,
     "metadata": {},
     "output_type": "execute_result"
    }
   ],
   "source": [
    "# to check if there are any duplicate values in the column\n",
    "df.duplicated().sum()"
   ]
  },
  {
   "cell_type": "markdown",
   "id": "f137fde8",
   "metadata": {},
   "source": [
    "# Checking the unique values in the column"
   ]
  },
  {
   "cell_type": "code",
   "execution_count": 10,
   "id": "31b9b27d",
   "metadata": {},
   "outputs": [
    {
     "name": "stdout",
     "output_type": "stream",
     "text": [
      "<class 'pandas.core.frame.DataFrame'>\n",
      "RangeIndex: 205 entries, 0 to 204\n",
      "Data columns (total 26 columns):\n",
      " #   Column             Non-Null Count  Dtype  \n",
      "---  ------             --------------  -----  \n",
      " 0   symboling          205 non-null    int64  \n",
      " 1   normalized-losses  205 non-null    object \n",
      " 2   make               205 non-null    object \n",
      " 3   fuel-type          205 non-null    object \n",
      " 4   aspiration         205 non-null    object \n",
      " 5   num-of-doors       205 non-null    object \n",
      " 6   body-style         205 non-null    object \n",
      " 7   drive-wheels       205 non-null    object \n",
      " 8   engine-location    205 non-null    object \n",
      " 9   wheel-base         205 non-null    float64\n",
      " 10  length             205 non-null    float64\n",
      " 11  width              205 non-null    float64\n",
      " 12  height             205 non-null    float64\n",
      " 13  curb-weight        205 non-null    int64  \n",
      " 14  engine-type        205 non-null    object \n",
      " 15  num-of-cylinders   205 non-null    object \n",
      " 16  engine-size        205 non-null    int64  \n",
      " 17  fuel-system        205 non-null    object \n",
      " 18  bore               205 non-null    object \n",
      " 19  stroke             205 non-null    object \n",
      " 20  compression-ratio  205 non-null    float64\n",
      " 21  horsepower         205 non-null    object \n",
      " 22  peak-rpm           205 non-null    object \n",
      " 23  city-mpg           205 non-null    int64  \n",
      " 24  highway-mpg        205 non-null    int64  \n",
      " 25  price              205 non-null    object \n",
      "dtypes: float64(5), int64(5), object(16)\n",
      "memory usage: 41.8+ KB\n"
     ]
    }
   ],
   "source": [
    "# it gives summary of the dataframe structure and content\n",
    "df.info()"
   ]
  },
  {
   "cell_type": "code",
   "execution_count": 11,
   "id": "7988f0fd",
   "metadata": {},
   "outputs": [
    {
     "name": "stdout",
     "output_type": "stream",
     "text": [
      "normalized-losses: ['?' '164' '158' '192' '188' '121' '98' '81' '118' '148' '110' '145' '137'\n",
      " '101' '78' '106' '85' '107' '104' '113' '150' '129' '115' '93' '142'\n",
      " '161' '153' '125' '128' '122' '103' '168' '108' '194' '231' '119' '154'\n",
      " '74' '186' '83' '102' '89' '87' '77' '91' '134' '65' '197' '90' '94'\n",
      " '256' '95']\n",
      "********************************\n",
      "make: ['alfa-romero' 'audi' 'bmw' 'chevrolet' 'dodge' 'honda' 'isuzu' 'jaguar'\n",
      " 'mazda' 'mercedes-benz' 'mercury' 'mitsubishi' 'nissan' 'peugot'\n",
      " 'plymouth' 'porsche' 'renault' 'saab' 'subaru' 'toyota' 'volkswagen'\n",
      " 'volvo']\n",
      "********************************\n",
      "fuel-type: ['gas' 'diesel']\n",
      "********************************\n",
      "aspiration: ['std' 'turbo']\n",
      "********************************\n",
      "num-of-doors: ['two' 'four' '?']\n",
      "********************************\n",
      "body-style: ['convertible' 'hatchback' 'sedan' 'wagon' 'hardtop']\n",
      "********************************\n",
      "drive-wheels: ['rwd' 'fwd' '4wd']\n",
      "********************************\n",
      "engine-location: ['front' 'rear']\n",
      "********************************\n",
      "engine-type: ['dohc' 'ohcv' 'ohc' 'l' 'rotor' 'ohcf' 'dohcv']\n",
      "********************************\n",
      "num-of-cylinders: ['four' 'six' 'five' 'three' 'twelve' 'two' 'eight']\n",
      "********************************\n",
      "fuel-system: ['mpfi' '2bbl' 'mfi' '1bbl' 'spfi' '4bbl' 'idi' 'spdi']\n",
      "********************************\n",
      "bore: ['3.47' '2.68' '3.19' '3.13' '3.5' '3.31' '3.62' '2.91' '3.03' '2.97'\n",
      " '3.34' '3.6' '2.92' '3.15' '3.43' '3.63' '3.54' '3.08' '?' '3.39' '3.76'\n",
      " '3.58' '3.46' '3.8' '3.78' '3.17' '3.35' '3.59' '2.99' '3.33' '3.7'\n",
      " '3.61' '3.94' '3.74' '2.54' '3.05' '3.27' '3.24' '3.01']\n",
      "********************************\n",
      "stroke: ['2.68' '3.47' '3.4' '2.8' '3.19' '3.39' '3.03' '3.11' '3.23' '3.46' '3.9'\n",
      " '3.41' '3.07' '3.58' '4.17' '2.76' '3.15' '?' '3.16' '3.64' '3.1' '3.35'\n",
      " '3.12' '3.86' '3.29' '3.27' '3.52' '2.19' '3.21' '2.9' '2.07' '2.36'\n",
      " '2.64' '3.08' '3.5' '3.54' '2.87']\n",
      "********************************\n",
      "horsepower: ['111' '154' '102' '115' '110' '140' '160' '101' '121' '182' '48' '70'\n",
      " '68' '88' '145' '58' '76' '60' '86' '100' '78' '90' '176' '262' '135'\n",
      " '84' '64' '120' '72' '123' '155' '184' '175' '116' '69' '55' '97' '152'\n",
      " '200' '95' '142' '143' '207' '288' '?' '73' '82' '94' '62' '56' '112'\n",
      " '92' '161' '156' '52' '85' '114' '162' '134' '106']\n",
      "********************************\n",
      "peak-rpm: ['5000' '5500' '5800' '4250' '5400' '5100' '4800' '6000' '4750' '4650'\n",
      " '4200' '4350' '4500' '5200' '4150' '5600' '5900' '5750' '?' '5250' '4900'\n",
      " '4400' '6600' '5300']\n",
      "********************************\n",
      "price: ['13495' '16500' '13950' '17450' '15250' '17710' '18920' '23875' '?'\n",
      " '16430' '16925' '20970' '21105' '24565' '30760' '41315' '36880' '5151'\n",
      " '6295' '6575' '5572' '6377' '7957' '6229' '6692' '7609' '8558' '8921'\n",
      " '12964' '6479' '6855' '5399' '6529' '7129' '7295' '7895' '9095' '8845'\n",
      " '10295' '12945' '10345' '6785' '11048' '32250' '35550' '36000' '5195'\n",
      " '6095' '6795' '6695' '7395' '10945' '11845' '13645' '15645' '8495'\n",
      " '10595' '10245' '10795' '11245' '18280' '18344' '25552' '28248' '28176'\n",
      " '31600' '34184' '35056' '40960' '45400' '16503' '5389' '6189' '6669'\n",
      " '7689' '9959' '8499' '12629' '14869' '14489' '6989' '8189' '9279' '5499'\n",
      " '7099' '6649' '6849' '7349' '7299' '7799' '7499' '7999' '8249' '8949'\n",
      " '9549' '13499' '14399' '17199' '19699' '18399' '11900' '13200' '12440'\n",
      " '13860' '15580' '16900' '16695' '17075' '16630' '17950' '18150' '12764'\n",
      " '22018' '32528' '34028' '37028' '9295' '9895' '11850' '12170' '15040'\n",
      " '15510' '18620' '5118' '7053' '7603' '7126' '7775' '9960' '9233' '11259'\n",
      " '7463' '10198' '8013' '11694' '5348' '6338' '6488' '6918' '7898' '8778'\n",
      " '6938' '7198' '7788' '7738' '8358' '9258' '8058' '8238' '9298' '9538'\n",
      " '8449' '9639' '9989' '11199' '11549' '17669' '8948' '10698' '9988'\n",
      " '10898' '11248' '16558' '15998' '15690' '15750' '7975' '7995' '8195'\n",
      " '9495' '9995' '11595' '9980' '13295' '13845' '12290' '12940' '13415'\n",
      " '15985' '16515' '18420' '18950' '16845' '19045' '21485' '22470' '22625']\n",
      "********************************\n"
     ]
    }
   ],
   "source": [
    "# to find all the unique values in the column\n",
    "\n",
    "for col in df.select_dtypes(include = ['object']).columns:\n",
    "    print(f'{col}: {df[col].unique()}')\n",
    "    print(\"********************************\")"
   ]
  },
  {
   "cell_type": "code",
   "execution_count": 12,
   "id": "b3f331df",
   "metadata": {
    "scrolled": false
   },
   "outputs": [
    {
     "name": "stdout",
     "output_type": "stream",
     "text": [
      "normalized-losses:\n",
      "?      41\n",
      "161    11\n",
      "91      8\n",
      "150     7\n",
      "134     6\n",
      "128     6\n",
      "104     6\n",
      "85      5\n",
      "94      5\n",
      "65      5\n",
      "102     5\n",
      "74      5\n",
      "168     5\n",
      "103     5\n",
      "95      5\n",
      "106     4\n",
      "93      4\n",
      "118     4\n",
      "148     4\n",
      "122     4\n",
      "83      3\n",
      "125     3\n",
      "154     3\n",
      "115     3\n",
      "137     3\n",
      "101     3\n",
      "119     2\n",
      "87      2\n",
      "89      2\n",
      "192     2\n",
      "197     2\n",
      "158     2\n",
      "81      2\n",
      "188     2\n",
      "194     2\n",
      "153     2\n",
      "129     2\n",
      "108     2\n",
      "110     2\n",
      "164     2\n",
      "145     2\n",
      "113     2\n",
      "256     1\n",
      "107     1\n",
      "90      1\n",
      "231     1\n",
      "142     1\n",
      "121     1\n",
      "78      1\n",
      "98      1\n",
      "186     1\n",
      "77      1\n",
      "Name: normalized-losses, dtype: int64\n",
      "********************************\n",
      "make:\n",
      "toyota           32\n",
      "nissan           18\n",
      "mazda            17\n",
      "mitsubishi       13\n",
      "honda            13\n",
      "volkswagen       12\n",
      "subaru           12\n",
      "peugot           11\n",
      "volvo            11\n",
      "dodge             9\n",
      "mercedes-benz     8\n",
      "bmw               8\n",
      "audi              7\n",
      "plymouth          7\n",
      "saab              6\n",
      "porsche           5\n",
      "isuzu             4\n",
      "jaguar            3\n",
      "chevrolet         3\n",
      "alfa-romero       3\n",
      "renault           2\n",
      "mercury           1\n",
      "Name: make, dtype: int64\n",
      "********************************\n",
      "fuel-type:\n",
      "gas       185\n",
      "diesel     20\n",
      "Name: fuel-type, dtype: int64\n",
      "********************************\n",
      "aspiration:\n",
      "std      168\n",
      "turbo     37\n",
      "Name: aspiration, dtype: int64\n",
      "********************************\n",
      "num-of-doors:\n",
      "four    114\n",
      "two      89\n",
      "?         2\n",
      "Name: num-of-doors, dtype: int64\n",
      "********************************\n",
      "body-style:\n",
      "sedan          96\n",
      "hatchback      70\n",
      "wagon          25\n",
      "hardtop         8\n",
      "convertible     6\n",
      "Name: body-style, dtype: int64\n",
      "********************************\n",
      "drive-wheels:\n",
      "fwd    120\n",
      "rwd     76\n",
      "4wd      9\n",
      "Name: drive-wheels, dtype: int64\n",
      "********************************\n",
      "engine-location:\n",
      "front    202\n",
      "rear       3\n",
      "Name: engine-location, dtype: int64\n",
      "********************************\n",
      "engine-type:\n",
      "ohc      148\n",
      "ohcf      15\n",
      "ohcv      13\n",
      "dohc      12\n",
      "l         12\n",
      "rotor      4\n",
      "dohcv      1\n",
      "Name: engine-type, dtype: int64\n",
      "********************************\n",
      "num-of-cylinders:\n",
      "four      159\n",
      "six        24\n",
      "five       11\n",
      "eight       5\n",
      "two         4\n",
      "three       1\n",
      "twelve      1\n",
      "Name: num-of-cylinders, dtype: int64\n",
      "********************************\n",
      "fuel-system:\n",
      "mpfi    94\n",
      "2bbl    66\n",
      "idi     20\n",
      "1bbl    11\n",
      "spdi     9\n",
      "4bbl     3\n",
      "mfi      1\n",
      "spfi     1\n",
      "Name: fuel-system, dtype: int64\n",
      "********************************\n",
      "bore:\n",
      "3.62    23\n",
      "3.19    20\n",
      "3.15    15\n",
      "3.03    12\n",
      "2.97    12\n",
      "3.46     9\n",
      "3.31     8\n",
      "3.78     8\n",
      "3.43     8\n",
      "3.27     7\n",
      "2.91     7\n",
      "3.39     6\n",
      "3.54     6\n",
      "3.05     6\n",
      "3.58     6\n",
      "3.7      5\n",
      "3.01     5\n",
      "3.35     4\n",
      "?        4\n",
      "3.17     3\n",
      "3.59     3\n",
      "3.74     3\n",
      "3.47     2\n",
      "3.94     2\n",
      "3.24     2\n",
      "3.13     2\n",
      "3.63     2\n",
      "3.5      2\n",
      "3.8      2\n",
      "3.33     2\n",
      "2.54     1\n",
      "3.08     1\n",
      "3.61     1\n",
      "3.34     1\n",
      "3.6      1\n",
      "2.92     1\n",
      "3.76     1\n",
      "2.68     1\n",
      "2.99     1\n",
      "Name: bore, dtype: int64\n",
      "********************************\n",
      "stroke:\n",
      "3.4     20\n",
      "3.23    14\n",
      "3.15    14\n",
      "3.03    14\n",
      "3.39    13\n",
      "2.64    11\n",
      "3.29     9\n",
      "3.35     9\n",
      "3.46     8\n",
      "3.11     6\n",
      "3.27     6\n",
      "3.41     6\n",
      "3.07     6\n",
      "3.58     6\n",
      "3.19     6\n",
      "3.5      6\n",
      "3.64     5\n",
      "3.52     5\n",
      "3.86     4\n",
      "3.54     4\n",
      "3.47     4\n",
      "?        4\n",
      "3.9      3\n",
      "2.9      3\n",
      "3.1      2\n",
      "4.17     2\n",
      "2.8      2\n",
      "2.19     2\n",
      "3.08     2\n",
      "2.68     2\n",
      "2.36     1\n",
      "3.16     1\n",
      "2.07     1\n",
      "3.21     1\n",
      "3.12     1\n",
      "2.76     1\n",
      "2.87     1\n",
      "Name: stroke, dtype: int64\n",
      "********************************\n",
      "horsepower:\n",
      "68     19\n",
      "70     11\n",
      "69     10\n",
      "116     9\n",
      "110     8\n",
      "95      7\n",
      "88      6\n",
      "62      6\n",
      "101     6\n",
      "160     6\n",
      "114     6\n",
      "84      5\n",
      "97      5\n",
      "102     5\n",
      "145     5\n",
      "82      5\n",
      "76      5\n",
      "111     4\n",
      "92      4\n",
      "123     4\n",
      "86      4\n",
      "90      3\n",
      "73      3\n",
      "85      3\n",
      "207     3\n",
      "182     3\n",
      "121     3\n",
      "152     3\n",
      "112     2\n",
      "56      2\n",
      "161     2\n",
      "156     2\n",
      "94      2\n",
      "52      2\n",
      "?       2\n",
      "162     2\n",
      "155     2\n",
      "184     2\n",
      "100     2\n",
      "176     2\n",
      "55      1\n",
      "262     1\n",
      "134     1\n",
      "115     1\n",
      "140     1\n",
      "48      1\n",
      "58      1\n",
      "60      1\n",
      "78      1\n",
      "135     1\n",
      "200     1\n",
      "64      1\n",
      "120     1\n",
      "72      1\n",
      "154     1\n",
      "288     1\n",
      "143     1\n",
      "142     1\n",
      "175     1\n",
      "106     1\n",
      "Name: horsepower, dtype: int64\n",
      "********************************\n",
      "peak-rpm:\n",
      "5500    37\n",
      "4800    36\n",
      "5000    27\n",
      "5200    23\n",
      "5400    13\n",
      "6000     9\n",
      "5250     7\n",
      "4500     7\n",
      "5800     7\n",
      "4200     5\n",
      "4150     5\n",
      "4750     4\n",
      "4350     4\n",
      "5100     3\n",
      "4250     3\n",
      "5900     3\n",
      "4400     3\n",
      "?        2\n",
      "6600     2\n",
      "4650     1\n",
      "5600     1\n",
      "5750     1\n",
      "4900     1\n",
      "5300     1\n",
      "Name: peak-rpm, dtype: int64\n",
      "********************************\n",
      "price:\n",
      "?        4\n",
      "8921     2\n",
      "18150    2\n",
      "8845     2\n",
      "8495     2\n",
      "        ..\n",
      "45400    1\n",
      "16503    1\n",
      "5389     1\n",
      "6189     1\n",
      "22625    1\n",
      "Name: price, Length: 187, dtype: int64\n",
      "********************************\n"
     ]
    }
   ],
   "source": [
    "# to identity the frequency of a particular value..\n",
    "\n",
    "for col in df.select_dtypes(include = ['object']).columns:\n",
    "    print(f'{col}:')\n",
    "    print(f'{df[col].value_counts()}')\n",
    "    print(\"********************************\")"
   ]
  },
  {
   "cell_type": "code",
   "execution_count": 13,
   "id": "6ce30d2b",
   "metadata": {},
   "outputs": [
    {
     "data": {
      "text/plain": [
       "symboling            0\n",
       "normalized-losses    0\n",
       "make                 0\n",
       "fuel-type            0\n",
       "aspiration           0\n",
       "num-of-doors         0\n",
       "body-style           0\n",
       "drive-wheels         0\n",
       "engine-location      0\n",
       "wheel-base           0\n",
       "length               0\n",
       "width                0\n",
       "height               0\n",
       "curb-weight          0\n",
       "engine-type          0\n",
       "num-of-cylinders     0\n",
       "engine-size          0\n",
       "fuel-system          0\n",
       "bore                 0\n",
       "stroke               0\n",
       "compression-ratio    0\n",
       "horsepower           0\n",
       "peak-rpm             0\n",
       "city-mpg             0\n",
       "highway-mpg          0\n",
       "price                0\n",
       "dtype: int64"
      ]
     },
     "execution_count": 13,
     "metadata": {},
     "output_type": "execute_result"
    }
   ],
   "source": [
    "# to check for null values in the dataset\n",
    "\n",
    "df.isnull().sum()"
   ]
  },
  {
   "cell_type": "markdown",
   "id": "e662fb76",
   "metadata": {},
   "source": [
    "# Data Preprocessing -- Data Cleaning"
   ]
  },
  {
   "cell_type": "code",
   "execution_count": 14,
   "id": "c397c3ec",
   "metadata": {},
   "outputs": [],
   "source": [
    "# few numerical columns have '?' instead of values..\n",
    "\n",
    "def handle_Question_mark(value):\n",
    "        if value == '?':\n",
    "            return 0\n",
    "        else:\n",
    "            return value"
   ]
  },
  {
   "cell_type": "code",
   "execution_count": 15,
   "id": "0ab94a5f",
   "metadata": {},
   "outputs": [],
   "source": [
    "# applying the above function to the column which has ? in it\n",
    "\n",
    "df['normalized-losses'] = df['normalized-losses'].apply(handle_Question_mark)\n",
    "df['bore'] = df['bore'].apply(handle_Question_mark)\n",
    "df['stroke'] = df['stroke'].apply(handle_Question_mark)\n",
    "df['horsepower'] = df['horsepower'].apply(handle_Question_mark)\n",
    "df['peak-rpm'] = df['peak-rpm'].apply(handle_Question_mark)\n",
    "df['price'] = df['price'].apply(handle_Question_mark)\n",
    "\n"
   ]
  },
  {
   "cell_type": "markdown",
   "id": "38be5de3",
   "metadata": {},
   "source": [
    "# Converting the few object type data columns into integer and float data type"
   ]
  },
  {
   "cell_type": "code",
   "execution_count": 16,
   "id": "2a9376d3",
   "metadata": {},
   "outputs": [
    {
     "data": {
      "text/plain": [
       "symboling              int64\n",
       "normalized-losses     object\n",
       "make                  object\n",
       "fuel-type             object\n",
       "aspiration            object\n",
       "num-of-doors          object\n",
       "body-style            object\n",
       "drive-wheels          object\n",
       "engine-location       object\n",
       "wheel-base           float64\n",
       "length               float64\n",
       "width                float64\n",
       "height               float64\n",
       "curb-weight            int64\n",
       "engine-type           object\n",
       "num-of-cylinders      object\n",
       "engine-size            int64\n",
       "fuel-system           object\n",
       "bore                  object\n",
       "stroke                object\n",
       "compression-ratio    float64\n",
       "horsepower            object\n",
       "peak-rpm              object\n",
       "city-mpg               int64\n",
       "highway-mpg            int64\n",
       "price                 object\n",
       "dtype: object"
      ]
     },
     "execution_count": 16,
     "metadata": {},
     "output_type": "execute_result"
    }
   ],
   "source": [
    "# it is used to retrieve the data type of each column in the dataframe\n",
    "\n",
    "df.dtypes"
   ]
  },
  {
   "cell_type": "code",
   "execution_count": 17,
   "id": "45f643f4",
   "metadata": {},
   "outputs": [],
   "source": [
    "# converting the string values to float values\n",
    "df['normalized-losses'] = df['normalized-losses'].astype(float)\n",
    "df['bore'] = df['bore'].astype(float)\n",
    "df['stroke'] = df['stroke'].astype(float)\n",
    "df['horsepower'] = df['horsepower'].astype(float)\n",
    "df['peak-rpm'] = df['peak-rpm'].astype(float)\n",
    "df['price'] = df['price'].astype(float)\n",
    " "
   ]
  },
  {
   "cell_type": "code",
   "execution_count": 18,
   "id": "360dd333",
   "metadata": {},
   "outputs": [
    {
     "data": {
      "text/plain": [
       "symboling              int64\n",
       "normalized-losses    float64\n",
       "make                  object\n",
       "fuel-type             object\n",
       "aspiration            object\n",
       "num-of-doors          object\n",
       "body-style            object\n",
       "drive-wheels          object\n",
       "engine-location       object\n",
       "wheel-base           float64\n",
       "length               float64\n",
       "width                float64\n",
       "height               float64\n",
       "curb-weight            int64\n",
       "engine-type           object\n",
       "num-of-cylinders      object\n",
       "engine-size            int64\n",
       "fuel-system           object\n",
       "bore                 float64\n",
       "stroke               float64\n",
       "compression-ratio    float64\n",
       "horsepower           float64\n",
       "peak-rpm             float64\n",
       "city-mpg               int64\n",
       "highway-mpg            int64\n",
       "price                float64\n",
       "dtype: object"
      ]
     },
     "execution_count": 18,
     "metadata": {},
     "output_type": "execute_result"
    }
   ],
   "source": [
    "# the type of the data after conversion\n",
    "df.dtypes"
   ]
  },
  {
   "cell_type": "markdown",
   "id": "bf3b2f13",
   "metadata": {},
   "source": [
    "# Data Visualisation"
   ]
  },
  {
   "cell_type": "markdown",
   "id": "704d9584",
   "metadata": {},
   "source": [
    "# Univariant Analysis (exploring the data with single variable)\n"
   ]
  },
  {
   "cell_type": "code",
   "execution_count": 19,
   "id": "c9abe349",
   "metadata": {},
   "outputs": [
    {
     "data": {
      "image/png": "[encoded data removed]",
      "text/plain": [
       "<Figure size 1500x1000 with 10 Axes>"
      ]
     },
     "metadata": {},
     "output_type": "display_data"
    }
   ],
   "source": [
    "# A count plot is a type of visualization in which the count of occurrences of each unique value in a categorical variable \n",
    "# is displayed using bars\n",
    "\n",
    "categorical_values = []\n",
    "fig, axs = plt.subplots(nrows = 5,ncols = 2,figsize = (15,10))\n",
    "axs = axs.flatten()\n",
    "\n",
    "for cols in df.select_dtypes(include = 'object'):\n",
    "    categorical_values.append(cols)\n",
    "    \n",
    "for i, var in enumerate(categorical_values):\n",
    "    sns.countplot(x = var,data = df,ax= axs[i])\n",
    "    axs[i].set_xticklabels(df[var].unique(),rotation = 90)\n",
    "plt.tight_layout()\n",
    "    \n",
    "plt.show()"
   ]
  },
  {
   "cell_type": "code",
   "execution_count": 20,
   "id": "90ba3725",
   "metadata": {},
   "outputs": [
    {
     "ename": "IndexError",
     "evalue": "index 10 is out of bounds for axis 0 with size 10",
     "output_type": "error",
     "traceback": [
      "\u001b[1;31m---------------------------------------------------------------------------\u001b[0m",
      "\u001b[1;31mIndexError\u001b[0m                                Traceback (most recent call last)",
      "Cell \u001b[1;32mIn[20], line 9\u001b[0m\n\u001b[0;32m      7\u001b[0m     numerical_cols\u001b[38;5;241m.\u001b[39mappend(cols)\n\u001b[0;32m      8\u001b[0m \u001b[38;5;28;01mfor\u001b[39;00m i, var \u001b[38;5;129;01min\u001b[39;00m \u001b[38;5;28menumerate\u001b[39m(numerical_cols):\n\u001b[1;32m----> 9\u001b[0m     sns\u001b[38;5;241m.\u001b[39mboxplot(x \u001b[38;5;241m=\u001b[39m var,data \u001b[38;5;241m=\u001b[39m df,ax \u001b[38;5;241m=\u001b[39m\u001b[43maxs\u001b[49m\u001b[43m[\u001b[49m\u001b[43mi\u001b[49m\u001b[43m]\u001b[49m)\n\u001b[0;32m     10\u001b[0m plt\u001b[38;5;241m.\u001b[39mtight_layout(pad\u001b[38;5;241m=\u001b[39m\u001b[38;5;241m0.4\u001b[39m, w_pad\u001b[38;5;241m=\u001b[39m\u001b[38;5;241m0.5\u001b[39m, h_pad\u001b[38;5;241m=\u001b[39m\u001b[38;5;241m5.0\u001b[39m)\n\u001b[0;32m     11\u001b[0m plt\u001b[38;5;241m.\u001b[39mshow()\n",
      "\u001b[1;31mIndexError\u001b[0m: index 10 is out of bounds for axis 0 with size 10"
     ]
    },
    {
     "data": {
      "image/png": "[encoded data removed]",
      "text/plain": [
       "<Figure size 1500x1000 with 10 Axes>"
      ]
     },
     "metadata": {},
     "output_type": "display_data"
    }
   ],
   "source": [
    "# Box plots provide information about the central tendency, spread, skewness, and presence of outliers in the data. \n",
    "\n",
    "numerical_cols = []\n",
    "fig, axs = plt.subplots(nrows = 5,ncols = 2,figsize = (15,10) )\n",
    "axs = axs.flatten()\n",
    "for cols in df.select_dtypes(include = ['int','float']):\n",
    "    numerical_cols.append(cols)\n",
    "for i, var in enumerate(numerical_cols):\n",
    "    sns.boxplot(x = var,data = df,ax =axs[i])\n",
    "plt.tight_layout(pad=0.4, w_pad=0.5, h_pad=5.0)\n",
    "plt.show()"
   ]
  },
  {
   "cell_type": "code",
   "execution_count": null,
   "id": "149e8436",
   "metadata": {},
   "outputs": [],
   "source": [
    "# the histplot gives intuition about distribution of the data\n",
    "\n",
    "numerical_cols = []\n",
    "fig, axs = plt.subplots(nrows = 8,ncols = 2,figsize = (15,10) )\n",
    "axs = axs.flatten()\n",
    "for cols in df.select_dtypes(include = ['int','float']):\n",
    "    numerical_cols.append(cols)\n",
    "for i, var in enumerate(numerical_cols):\n",
    "    sns.histplot(x = var,data = df,ax =axs[i])\n",
    "    \n",
    "plt.tight_layout()\n",
    "plt.show()"
   ]
  },
  {
   "cell_type": "code",
   "execution_count": null,
   "id": "5622cbdc",
   "metadata": {},
   "outputs": [],
   "source": [
    "# Box plots provide information about the central tendency, spread, skewness, and presence of outliers in the data. \n",
    "\n",
    "plt.figure(figsize = (5,3))\n",
    "sns.set(style=\"whitegrid\")\n",
    "sns.boxplot(x = 'price',data = df,orient=\"h\")\n",
    "plt.xlabel(\"Price\")\n",
    "plt.show()"
   ]
  },
  {
   "cell_type": "markdown",
   "id": "ec07175d",
   "metadata": {},
   "source": [
    "# Bivariate Analysis(it determines the statistical relationship between two variables)"
   ]
  },
  {
   "cell_type": "code",
   "execution_count": null,
   "id": "13eb5030",
   "metadata": {},
   "outputs": [],
   "source": [
    "sns.violinplot(data = df,x = \"price\",y = 'num-of-doors')"
   ]
  },
  {
   "cell_type": "code",
   "execution_count": null,
   "id": "a38e4c2c",
   "metadata": {},
   "outputs": [],
   "source": [
    "sns.violinplot(data = df,x = \"price\",y = 'body-style')"
   ]
  },
  {
   "cell_type": "code",
   "execution_count": null,
   "id": "c2947983",
   "metadata": {},
   "outputs": [],
   "source": [
    "sns.barplot(data = df,x = \"price\",y = 'drive-wheels')"
   ]
  },
  {
   "cell_type": "code",
   "execution_count": 21,
   "id": "27afb949",
   "metadata": {},
   "outputs": [
    {
     "data": {
      "text/plain": [
       "<AxesSubplot: xlabel='price', ylabel='engine-type'>"
      ]
     },
     "execution_count": 21,
     "metadata": {},
     "output_type": "execute_result"
    },
    {
     "data": {
      "image/png": "[encoded data removed]",
      "text/plain": [
       "<Figure size 640x480 with 1 Axes>"
      ]
     },
     "metadata": {},
     "output_type": "display_data"
    }
   ],
   "source": [
    "sns.swarmplot(data = df,x = \"price\",y = 'engine-type')"
   ]
  },
  {
   "cell_type": "markdown",
   "id": "eb9a41a3",
   "metadata": {},
   "source": [
    "# Multivariate Analysis(it explores the association between more than two variables)"
   ]
  },
  {
   "cell_type": "code",
   "execution_count": 22,
   "id": "b9fd70bc",
   "metadata": {},
   "outputs": [
    {
     "data": {
      "text/plain": [
       "Text(0.5, 1.0, 'Visualisation of  Price against few features')"
      ]
     },
     "execution_count": 22,
     "metadata": {},
     "output_type": "execute_result"
    },
    {
     "data": {
      "image/png": "[encoded data removed]",
      "text/plain": [
       "<Figure size 640x480 with 1 Axes>"
      ]
     },
     "metadata": {},
     "output_type": "display_data"
    }
   ],
   "source": [
    "sns.scatterplot(x = 'price',y = 'horsepower',data = df,hue = 'num-of-doors',style = 'drive-wheels',sizes=(25, 300), \n",
    "                 legend=\"full\",color=\".5\")\n",
    "plt.title(\"Visualisation of  Price against few features\")"
   ]
  },
  {
   "cell_type": "markdown",
   "id": "a7532d73",
   "metadata": {},
   "source": [
    "# Heat map"
   ]
  },
  {
   "cell_type": "code",
   "execution_count": 23,
   "id": "462fed1c",
   "metadata": {},
   "outputs": [
    {
     "data": {
      "image/png": "[encoded data removed]",
      "text/plain": [
       "<Figure size 2000x1500 with 2 Axes>"
      ]
     },
     "metadata": {},
     "output_type": "display_data"
    }
   ],
   "source": [
    "plt.figure(figsize = (20,15))\n",
    "sns.heatmap(df.corr(),annot = True)\n",
    "plt.show()"
   ]
  },
  {
   "cell_type": "markdown",
   "id": "e4a9b3e4",
   "metadata": {},
   "source": [
    "# Filling the null values"
   ]
  },
  {
   "cell_type": "code",
   "execution_count": 24,
   "id": "5383aac7",
   "metadata": {},
   "outputs": [
    {
     "data": {
      "text/plain": [
       "97.6"
      ]
     },
     "execution_count": 24,
     "metadata": {},
     "output_type": "execute_result"
    }
   ],
   "source": [
    "# find the mean of the column \"normalized-losses\" anf filling the null values with the mean\n",
    "t = df['normalized-losses'].mean()\n",
    "df['normalized-losses'].fillna(t,inplace = True)\n",
    "t"
   ]
  },
  {
   "cell_type": "code",
   "execution_count": 25,
   "id": "4052b5db",
   "metadata": {},
   "outputs": [],
   "source": [
    "# the other columns have minimal null values so it can dropped\n",
    "df = df.dropna()"
   ]
  },
  {
   "cell_type": "code",
   "execution_count": 26,
   "id": "66e94028",
   "metadata": {},
   "outputs": [
    {
     "data": {
      "text/plain": [
       "symboling            0\n",
       "normalized-losses    0\n",
       "make                 0\n",
       "fuel-type            0\n",
       "aspiration           0\n",
       "num-of-doors         0\n",
       "body-style           0\n",
       "drive-wheels         0\n",
       "engine-location      0\n",
       "wheel-base           0\n",
       "length               0\n",
       "width                0\n",
       "height               0\n",
       "curb-weight          0\n",
       "engine-type          0\n",
       "num-of-cylinders     0\n",
       "engine-size          0\n",
       "fuel-system          0\n",
       "bore                 0\n",
       "stroke               0\n",
       "compression-ratio    0\n",
       "horsepower           0\n",
       "peak-rpm             0\n",
       "city-mpg             0\n",
       "highway-mpg          0\n",
       "price                0\n",
       "dtype: int64"
      ]
     },
     "execution_count": 26,
     "metadata": {},
     "output_type": "execute_result"
    }
   ],
   "source": [
    "df.isnull().sum()"
   ]
  },
  {
   "cell_type": "markdown",
   "id": "4aba1155",
   "metadata": {},
   "source": [
    "# Dropping few unwanted columns that are not related to price prediction "
   ]
  },
  {
   "cell_type": "code",
   "execution_count": 27,
   "id": "4c46aa74",
   "metadata": {},
   "outputs": [],
   "source": [
    "df = df.drop([\"bore\",\"symboling\",\"stroke\",\"compression-ratio\",\"peak-rpm\",],axis = 1)"
   ]
  },
  {
   "cell_type": "markdown",
   "id": "30186c57",
   "metadata": {},
   "source": [
    "# Handling the Categorical columns"
   ]
  },
  {
   "cell_type": "code",
   "execution_count": 28,
   "id": "ad185a0a",
   "metadata": {},
   "outputs": [
    {
     "data": {
      "text/plain": [
       "['make',\n",
       " 'fuel-type',\n",
       " 'aspiration',\n",
       " 'num-of-doors',\n",
       " 'body-style',\n",
       " 'drive-wheels',\n",
       " 'engine-location',\n",
       " 'engine-type',\n",
       " 'num-of-cylinders',\n",
       " 'fuel-system']"
      ]
     },
     "execution_count": 28,
     "metadata": {},
     "output_type": "execute_result"
    }
   ],
   "source": [
    "categorical_values = []\n",
    "for cols in df.select_dtypes(include = 'object'):\n",
    "    categorical_values.append(cols)\n",
    "categorical_values\n",
    "    "
   ]
  },
  {
   "cell_type": "markdown",
   "id": "4f2ef02b",
   "metadata": {},
   "source": [
    "# Encoding the categorical columns"
   ]
  },
  {
   "cell_type": "code",
   "execution_count": 29,
   "id": "03f60802",
   "metadata": {},
   "outputs": [],
   "source": [
    "from sklearn.preprocessing import LabelEncoder"
   ]
  },
  {
   "cell_type": "code",
   "execution_count": 30,
   "id": "f8f27818",
   "metadata": {},
   "outputs": [],
   "source": [
    "\n",
    "categorical_values = ['make','fuel-type','num-of-doors','num-of-cylinders','fuel-type']\n",
    "le = LabelEncoder()\n",
    "for col in categorical_values:\n",
    "    le.fit(df[col])\n",
    "    df[col] = le.transform(df[col])\n",
    "\n"
   ]
  },
  {
   "cell_type": "code",
   "execution_count": 31,
   "id": "e8f073f5",
   "metadata": {},
   "outputs": [
    {
     "data": {
      "text/html": [
       "<div>\n",
       "<style scoped>\n",
       "    .dataframe tbody tr th:only-of-type {\n",
       "        vertical-align: middle;\n",
       "    }\n",
       "\n",
       "    .dataframe tbody tr th {\n",
       "        vertical-align: top;\n",
       "    }\n",
       "\n",
       "    .dataframe thead th {\n",
       "        text-align: right;\n",
       "    }\n",
       "</style>\n",
       "<table border=\"1\" class=\"dataframe\">\n",
       "  <thead>\n",
       "    <tr style=\"text-align: right;\">\n",
       "      <th></th>\n",
       "      <th>normalized-losses</th>\n",
       "      <th>make</th>\n",
       "      <th>fuel-type</th>\n",
       "      <th>aspiration</th>\n",
       "      <th>num-of-doors</th>\n",
       "      <th>body-style</th>\n",
       "      <th>drive-wheels</th>\n",
       "      <th>engine-location</th>\n",
       "      <th>wheel-base</th>\n",
       "      <th>length</th>\n",
       "      <th>...</th>\n",
       "      <th>height</th>\n",
       "      <th>curb-weight</th>\n",
       "      <th>engine-type</th>\n",
       "      <th>num-of-cylinders</th>\n",
       "      <th>engine-size</th>\n",
       "      <th>fuel-system</th>\n",
       "      <th>horsepower</th>\n",
       "      <th>city-mpg</th>\n",
       "      <th>highway-mpg</th>\n",
       "      <th>price</th>\n",
       "    </tr>\n",
       "  </thead>\n",
       "  <tbody>\n",
       "    <tr>\n",
       "      <th>0</th>\n",
       "      <td>0.0</td>\n",
       "      <td>0</td>\n",
       "      <td>1</td>\n",
       "      <td>std</td>\n",
       "      <td>2</td>\n",
       "      <td>convertible</td>\n",
       "      <td>rwd</td>\n",
       "      <td>front</td>\n",
       "      <td>88.6</td>\n",
       "      <td>168.8</td>\n",
       "      <td>...</td>\n",
       "      <td>48.8</td>\n",
       "      <td>2548</td>\n",
       "      <td>dohc</td>\n",
       "      <td>2</td>\n",
       "      <td>130</td>\n",
       "      <td>mpfi</td>\n",
       "      <td>111.0</td>\n",
       "      <td>21</td>\n",
       "      <td>27</td>\n",
       "      <td>13495.0</td>\n",
       "    </tr>\n",
       "    <tr>\n",
       "      <th>1</th>\n",
       "      <td>0.0</td>\n",
       "      <td>0</td>\n",
       "      <td>1</td>\n",
       "      <td>std</td>\n",
       "      <td>2</td>\n",
       "      <td>convertible</td>\n",
       "      <td>rwd</td>\n",
       "      <td>front</td>\n",
       "      <td>88.6</td>\n",
       "      <td>168.8</td>\n",
       "      <td>...</td>\n",
       "      <td>48.8</td>\n",
       "      <td>2548</td>\n",
       "      <td>dohc</td>\n",
       "      <td>2</td>\n",
       "      <td>130</td>\n",
       "      <td>mpfi</td>\n",
       "      <td>111.0</td>\n",
       "      <td>21</td>\n",
       "      <td>27</td>\n",
       "      <td>16500.0</td>\n",
       "    </tr>\n",
       "    <tr>\n",
       "      <th>2</th>\n",
       "      <td>0.0</td>\n",
       "      <td>0</td>\n",
       "      <td>1</td>\n",
       "      <td>std</td>\n",
       "      <td>2</td>\n",
       "      <td>hatchback</td>\n",
       "      <td>rwd</td>\n",
       "      <td>front</td>\n",
       "      <td>94.5</td>\n",
       "      <td>171.2</td>\n",
       "      <td>...</td>\n",
       "      <td>52.4</td>\n",
       "      <td>2823</td>\n",
       "      <td>ohcv</td>\n",
       "      <td>3</td>\n",
       "      <td>152</td>\n",
       "      <td>mpfi</td>\n",
       "      <td>154.0</td>\n",
       "      <td>19</td>\n",
       "      <td>26</td>\n",
       "      <td>16500.0</td>\n",
       "    </tr>\n",
       "    <tr>\n",
       "      <th>3</th>\n",
       "      <td>164.0</td>\n",
       "      <td>1</td>\n",
       "      <td>1</td>\n",
       "      <td>std</td>\n",
       "      <td>1</td>\n",
       "      <td>sedan</td>\n",
       "      <td>fwd</td>\n",
       "      <td>front</td>\n",
       "      <td>99.8</td>\n",
       "      <td>176.6</td>\n",
       "      <td>...</td>\n",
       "      <td>54.3</td>\n",
       "      <td>2337</td>\n",
       "      <td>ohc</td>\n",
       "      <td>2</td>\n",
       "      <td>109</td>\n",
       "      <td>mpfi</td>\n",
       "      <td>102.0</td>\n",
       "      <td>24</td>\n",
       "      <td>30</td>\n",
       "      <td>13950.0</td>\n",
       "    </tr>\n",
       "    <tr>\n",
       "      <th>4</th>\n",
       "      <td>164.0</td>\n",
       "      <td>1</td>\n",
       "      <td>1</td>\n",
       "      <td>std</td>\n",
       "      <td>1</td>\n",
       "      <td>sedan</td>\n",
       "      <td>4wd</td>\n",
       "      <td>front</td>\n",
       "      <td>99.4</td>\n",
       "      <td>176.6</td>\n",
       "      <td>...</td>\n",
       "      <td>54.3</td>\n",
       "      <td>2824</td>\n",
       "      <td>ohc</td>\n",
       "      <td>1</td>\n",
       "      <td>136</td>\n",
       "      <td>mpfi</td>\n",
       "      <td>115.0</td>\n",
       "      <td>18</td>\n",
       "      <td>22</td>\n",
       "      <td>17450.0</td>\n",
       "    </tr>\n",
       "    <tr>\n",
       "      <th>...</th>\n",
       "      <td>...</td>\n",
       "      <td>...</td>\n",
       "      <td>...</td>\n",
       "      <td>...</td>\n",
       "      <td>...</td>\n",
       "      <td>...</td>\n",
       "      <td>...</td>\n",
       "      <td>...</td>\n",
       "      <td>...</td>\n",
       "      <td>...</td>\n",
       "      <td>...</td>\n",
       "      <td>...</td>\n",
       "      <td>...</td>\n",
       "      <td>...</td>\n",
       "      <td>...</td>\n",
       "      <td>...</td>\n",
       "      <td>...</td>\n",
       "      <td>...</td>\n",
       "      <td>...</td>\n",
       "      <td>...</td>\n",
       "      <td>...</td>\n",
       "    </tr>\n",
       "    <tr>\n",
       "      <th>200</th>\n",
       "      <td>95.0</td>\n",
       "      <td>21</td>\n",
       "      <td>1</td>\n",
       "      <td>std</td>\n",
       "      <td>1</td>\n",
       "      <td>sedan</td>\n",
       "      <td>rwd</td>\n",
       "      <td>front</td>\n",
       "      <td>109.1</td>\n",
       "      <td>188.8</td>\n",
       "      <td>...</td>\n",
       "      <td>55.5</td>\n",
       "      <td>2952</td>\n",
       "      <td>ohc</td>\n",
       "      <td>2</td>\n",
       "      <td>141</td>\n",
       "      <td>mpfi</td>\n",
       "      <td>114.0</td>\n",
       "      <td>23</td>\n",
       "      <td>28</td>\n",
       "      <td>16845.0</td>\n",
       "    </tr>\n",
       "    <tr>\n",
       "      <th>201</th>\n",
       "      <td>95.0</td>\n",
       "      <td>21</td>\n",
       "      <td>1</td>\n",
       "      <td>turbo</td>\n",
       "      <td>1</td>\n",
       "      <td>sedan</td>\n",
       "      <td>rwd</td>\n",
       "      <td>front</td>\n",
       "      <td>109.1</td>\n",
       "      <td>188.8</td>\n",
       "      <td>...</td>\n",
       "      <td>55.5</td>\n",
       "      <td>3049</td>\n",
       "      <td>ohc</td>\n",
       "      <td>2</td>\n",
       "      <td>141</td>\n",
       "      <td>mpfi</td>\n",
       "      <td>160.0</td>\n",
       "      <td>19</td>\n",
       "      <td>25</td>\n",
       "      <td>19045.0</td>\n",
       "    </tr>\n",
       "    <tr>\n",
       "      <th>202</th>\n",
       "      <td>95.0</td>\n",
       "      <td>21</td>\n",
       "      <td>1</td>\n",
       "      <td>std</td>\n",
       "      <td>1</td>\n",
       "      <td>sedan</td>\n",
       "      <td>rwd</td>\n",
       "      <td>front</td>\n",
       "      <td>109.1</td>\n",
       "      <td>188.8</td>\n",
       "      <td>...</td>\n",
       "      <td>55.5</td>\n",
       "      <td>3012</td>\n",
       "      <td>ohcv</td>\n",
       "      <td>3</td>\n",
       "      <td>173</td>\n",
       "      <td>mpfi</td>\n",
       "      <td>134.0</td>\n",
       "      <td>18</td>\n",
       "      <td>23</td>\n",
       "      <td>21485.0</td>\n",
       "    </tr>\n",
       "    <tr>\n",
       "      <th>203</th>\n",
       "      <td>95.0</td>\n",
       "      <td>21</td>\n",
       "      <td>0</td>\n",
       "      <td>turbo</td>\n",
       "      <td>1</td>\n",
       "      <td>sedan</td>\n",
       "      <td>rwd</td>\n",
       "      <td>front</td>\n",
       "      <td>109.1</td>\n",
       "      <td>188.8</td>\n",
       "      <td>...</td>\n",
       "      <td>55.5</td>\n",
       "      <td>3217</td>\n",
       "      <td>ohc</td>\n",
       "      <td>3</td>\n",
       "      <td>145</td>\n",
       "      <td>idi</td>\n",
       "      <td>106.0</td>\n",
       "      <td>26</td>\n",
       "      <td>27</td>\n",
       "      <td>22470.0</td>\n",
       "    </tr>\n",
       "    <tr>\n",
       "      <th>204</th>\n",
       "      <td>95.0</td>\n",
       "      <td>21</td>\n",
       "      <td>1</td>\n",
       "      <td>turbo</td>\n",
       "      <td>1</td>\n",
       "      <td>sedan</td>\n",
       "      <td>rwd</td>\n",
       "      <td>front</td>\n",
       "      <td>109.1</td>\n",
       "      <td>188.8</td>\n",
       "      <td>...</td>\n",
       "      <td>55.5</td>\n",
       "      <td>3062</td>\n",
       "      <td>ohc</td>\n",
       "      <td>2</td>\n",
       "      <td>141</td>\n",
       "      <td>mpfi</td>\n",
       "      <td>114.0</td>\n",
       "      <td>19</td>\n",
       "      <td>25</td>\n",
       "      <td>22625.0</td>\n",
       "    </tr>\n",
       "  </tbody>\n",
       "</table>\n",
       "<p>205 rows × 21 columns</p>\n",
       "</div>"
      ],
      "text/plain": [
       "     normalized-losses  make  fuel-type aspiration  num-of-doors   body-style  \\\n",
       "0                  0.0     0          1        std             2  convertible   \n",
       "1                  0.0     0          1        std             2  convertible   \n",
       "2                  0.0     0          1        std             2    hatchback   \n",
       "3                164.0     1          1        std             1        sedan   \n",
       "4                164.0     1          1        std             1        sedan   \n",
       "..                 ...   ...        ...        ...           ...          ...   \n",
       "200               95.0    21          1        std             1        sedan   \n",
       "201               95.0    21          1      turbo             1        sedan   \n",
       "202               95.0    21          1        std             1        sedan   \n",
       "203               95.0    21          0      turbo             1        sedan   \n",
       "204               95.0    21          1      turbo             1        sedan   \n",
       "\n",
       "    drive-wheels engine-location  wheel-base  length  ...  height  \\\n",
       "0            rwd           front        88.6   168.8  ...    48.8   \n",
       "1            rwd           front        88.6   168.8  ...    48.8   \n",
       "2            rwd           front        94.5   171.2  ...    52.4   \n",
       "3            fwd           front        99.8   176.6  ...    54.3   \n",
       "4            4wd           front        99.4   176.6  ...    54.3   \n",
       "..           ...             ...         ...     ...  ...     ...   \n",
       "200          rwd           front       109.1   188.8  ...    55.5   \n",
       "201          rwd           front       109.1   188.8  ...    55.5   \n",
       "202          rwd           front       109.1   188.8  ...    55.5   \n",
       "203          rwd           front       109.1   188.8  ...    55.5   \n",
       "204          rwd           front       109.1   188.8  ...    55.5   \n",
       "\n",
       "     curb-weight  engine-type num-of-cylinders  engine-size  fuel-system  \\\n",
       "0           2548         dohc                2          130         mpfi   \n",
       "1           2548         dohc                2          130         mpfi   \n",
       "2           2823         ohcv                3          152         mpfi   \n",
       "3           2337          ohc                2          109         mpfi   \n",
       "4           2824          ohc                1          136         mpfi   \n",
       "..           ...          ...              ...          ...          ...   \n",
       "200         2952          ohc                2          141         mpfi   \n",
       "201         3049          ohc                2          141         mpfi   \n",
       "202         3012         ohcv                3          173         mpfi   \n",
       "203         3217          ohc                3          145          idi   \n",
       "204         3062          ohc                2          141         mpfi   \n",
       "\n",
       "    horsepower  city-mpg  highway-mpg    price  \n",
       "0        111.0        21           27  13495.0  \n",
       "1        111.0        21           27  16500.0  \n",
       "2        154.0        19           26  16500.0  \n",
       "3        102.0        24           30  13950.0  \n",
       "4        115.0        18           22  17450.0  \n",
       "..         ...       ...          ...      ...  \n",
       "200      114.0        23           28  16845.0  \n",
       "201      160.0        19           25  19045.0  \n",
       "202      134.0        18           23  21485.0  \n",
       "203      106.0        26           27  22470.0  \n",
       "204      114.0        19           25  22625.0  \n",
       "\n",
       "[205 rows x 21 columns]"
      ]
     },
     "execution_count": 31,
     "metadata": {},
     "output_type": "execute_result"
    }
   ],
   "source": [
    "df"
   ]
  },
  {
   "cell_type": "code",
   "execution_count": 32,
   "id": "96ff0cf5",
   "metadata": {},
   "outputs": [],
   "source": [
    "from sklearn.preprocessing import OneHotEncoder"
   ]
  },
  {
   "cell_type": "code",
   "execution_count": 33,
   "id": "80e36661",
   "metadata": {},
   "outputs": [
    {
     "data": {
      "text/html": [
       "<div>\n",
       "<style scoped>\n",
       "    .dataframe tbody tr th:only-of-type {\n",
       "        vertical-align: middle;\n",
       "    }\n",
       "\n",
       "    .dataframe tbody tr th {\n",
       "        vertical-align: top;\n",
       "    }\n",
       "\n",
       "    .dataframe thead th {\n",
       "        text-align: right;\n",
       "    }\n",
       "</style>\n",
       "<table border=\"1\" class=\"dataframe\">\n",
       "  <thead>\n",
       "    <tr style=\"text-align: right;\">\n",
       "      <th></th>\n",
       "      <th>turbo</th>\n",
       "    </tr>\n",
       "  </thead>\n",
       "  <tbody>\n",
       "    <tr>\n",
       "      <th>0</th>\n",
       "      <td>0</td>\n",
       "    </tr>\n",
       "    <tr>\n",
       "      <th>1</th>\n",
       "      <td>0</td>\n",
       "    </tr>\n",
       "    <tr>\n",
       "      <th>2</th>\n",
       "      <td>0</td>\n",
       "    </tr>\n",
       "    <tr>\n",
       "      <th>3</th>\n",
       "      <td>0</td>\n",
       "    </tr>\n",
       "    <tr>\n",
       "      <th>4</th>\n",
       "      <td>0</td>\n",
       "    </tr>\n",
       "  </tbody>\n",
       "</table>\n",
       "</div>"
      ],
      "text/plain": [
       "   turbo\n",
       "0      0\n",
       "1      0\n",
       "2      0\n",
       "3      0\n",
       "4      0"
      ]
     },
     "execution_count": 33,
     "metadata": {},
     "output_type": "execute_result"
    }
   ],
   "source": [
    "aspiration = df[['aspiration']]\n",
    "aspiration = pd.get_dummies(df['aspiration'],drop_first = True,sparse = False)\n",
    "aspiration.head()"
   ]
  },
  {
   "cell_type": "code",
   "execution_count": 34,
   "id": "265cabe8",
   "metadata": {},
   "outputs": [
    {
     "data": {
      "text/html": [
       "<div>\n",
       "<style scoped>\n",
       "    .dataframe tbody tr th:only-of-type {\n",
       "        vertical-align: middle;\n",
       "    }\n",
       "\n",
       "    .dataframe tbody tr th {\n",
       "        vertical-align: top;\n",
       "    }\n",
       "\n",
       "    .dataframe thead th {\n",
       "        text-align: right;\n",
       "    }\n",
       "</style>\n",
       "<table border=\"1\" class=\"dataframe\">\n",
       "  <thead>\n",
       "    <tr style=\"text-align: right;\">\n",
       "      <th></th>\n",
       "      <th>hardtop</th>\n",
       "      <th>hatchback</th>\n",
       "      <th>sedan</th>\n",
       "      <th>wagon</th>\n",
       "    </tr>\n",
       "  </thead>\n",
       "  <tbody>\n",
       "    <tr>\n",
       "      <th>0</th>\n",
       "      <td>0</td>\n",
       "      <td>0</td>\n",
       "      <td>0</td>\n",
       "      <td>0</td>\n",
       "    </tr>\n",
       "    <tr>\n",
       "      <th>1</th>\n",
       "      <td>0</td>\n",
       "      <td>0</td>\n",
       "      <td>0</td>\n",
       "      <td>0</td>\n",
       "    </tr>\n",
       "    <tr>\n",
       "      <th>2</th>\n",
       "      <td>0</td>\n",
       "      <td>1</td>\n",
       "      <td>0</td>\n",
       "      <td>0</td>\n",
       "    </tr>\n",
       "    <tr>\n",
       "      <th>3</th>\n",
       "      <td>0</td>\n",
       "      <td>0</td>\n",
       "      <td>1</td>\n",
       "      <td>0</td>\n",
       "    </tr>\n",
       "    <tr>\n",
       "      <th>4</th>\n",
       "      <td>0</td>\n",
       "      <td>0</td>\n",
       "      <td>1</td>\n",
       "      <td>0</td>\n",
       "    </tr>\n",
       "  </tbody>\n",
       "</table>\n",
       "</div>"
      ],
      "text/plain": [
       "   hardtop  hatchback  sedan  wagon\n",
       "0        0          0      0      0\n",
       "1        0          0      0      0\n",
       "2        0          1      0      0\n",
       "3        0          0      1      0\n",
       "4        0          0      1      0"
      ]
     },
     "execution_count": 34,
     "metadata": {},
     "output_type": "execute_result"
    }
   ],
   "source": [
    "body_style = df[['body-style']]\n",
    "body_style = pd.get_dummies(df['body-style'],drop_first = True,sparse = False)\n",
    "body_style.head()"
   ]
  },
  {
   "cell_type": "code",
   "execution_count": 35,
   "id": "98c5cb99",
   "metadata": {},
   "outputs": [
    {
     "data": {
      "text/html": [
       "<div>\n",
       "<style scoped>\n",
       "    .dataframe tbody tr th:only-of-type {\n",
       "        vertical-align: middle;\n",
       "    }\n",
       "\n",
       "    .dataframe tbody tr th {\n",
       "        vertical-align: top;\n",
       "    }\n",
       "\n",
       "    .dataframe thead th {\n",
       "        text-align: right;\n",
       "    }\n",
       "</style>\n",
       "<table border=\"1\" class=\"dataframe\">\n",
       "  <thead>\n",
       "    <tr style=\"text-align: right;\">\n",
       "      <th></th>\n",
       "      <th>fwd</th>\n",
       "      <th>rwd</th>\n",
       "    </tr>\n",
       "  </thead>\n",
       "  <tbody>\n",
       "    <tr>\n",
       "      <th>0</th>\n",
       "      <td>0</td>\n",
       "      <td>1</td>\n",
       "    </tr>\n",
       "    <tr>\n",
       "      <th>1</th>\n",
       "      <td>0</td>\n",
       "      <td>1</td>\n",
       "    </tr>\n",
       "    <tr>\n",
       "      <th>2</th>\n",
       "      <td>0</td>\n",
       "      <td>1</td>\n",
       "    </tr>\n",
       "    <tr>\n",
       "      <th>3</th>\n",
       "      <td>1</td>\n",
       "      <td>0</td>\n",
       "    </tr>\n",
       "    <tr>\n",
       "      <th>4</th>\n",
       "      <td>0</td>\n",
       "      <td>0</td>\n",
       "    </tr>\n",
       "  </tbody>\n",
       "</table>\n",
       "</div>"
      ],
      "text/plain": [
       "   fwd  rwd\n",
       "0    0    1\n",
       "1    0    1\n",
       "2    0    1\n",
       "3    1    0\n",
       "4    0    0"
      ]
     },
     "execution_count": 35,
     "metadata": {},
     "output_type": "execute_result"
    }
   ],
   "source": [
    "drive_wheels = df[['drive-wheels']]\n",
    "drive_wheels = pd.get_dummies(df['drive-wheels'],drop_first = True,sparse = False)\n",
    "drive_wheels.head()"
   ]
  },
  {
   "cell_type": "code",
   "execution_count": 36,
   "id": "19923811",
   "metadata": {},
   "outputs": [
    {
     "data": {
      "text/html": [
       "<div>\n",
       "<style scoped>\n",
       "    .dataframe tbody tr th:only-of-type {\n",
       "        vertical-align: middle;\n",
       "    }\n",
       "\n",
       "    .dataframe tbody tr th {\n",
       "        vertical-align: top;\n",
       "    }\n",
       "\n",
       "    .dataframe thead th {\n",
       "        text-align: right;\n",
       "    }\n",
       "</style>\n",
       "<table border=\"1\" class=\"dataframe\">\n",
       "  <thead>\n",
       "    <tr style=\"text-align: right;\">\n",
       "      <th></th>\n",
       "      <th>rear</th>\n",
       "    </tr>\n",
       "  </thead>\n",
       "  <tbody>\n",
       "    <tr>\n",
       "      <th>0</th>\n",
       "      <td>0</td>\n",
       "    </tr>\n",
       "    <tr>\n",
       "      <th>1</th>\n",
       "      <td>0</td>\n",
       "    </tr>\n",
       "    <tr>\n",
       "      <th>2</th>\n",
       "      <td>0</td>\n",
       "    </tr>\n",
       "    <tr>\n",
       "      <th>3</th>\n",
       "      <td>0</td>\n",
       "    </tr>\n",
       "    <tr>\n",
       "      <th>4</th>\n",
       "      <td>0</td>\n",
       "    </tr>\n",
       "  </tbody>\n",
       "</table>\n",
       "</div>"
      ],
      "text/plain": [
       "   rear\n",
       "0     0\n",
       "1     0\n",
       "2     0\n",
       "3     0\n",
       "4     0"
      ]
     },
     "execution_count": 36,
     "metadata": {},
     "output_type": "execute_result"
    }
   ],
   "source": [
    "engine_location = df[['engine-location']]\n",
    "engine_location = pd.get_dummies(df['engine-location'],drop_first = True,sparse = False)\n",
    "engine_location.head()"
   ]
  },
  {
   "cell_type": "code",
   "execution_count": 37,
   "id": "e11814b3",
   "metadata": {},
   "outputs": [
    {
     "data": {
      "text/plain": [
       "pandas.core.frame.DataFrame"
      ]
     },
     "execution_count": 37,
     "metadata": {},
     "output_type": "execute_result"
    }
   ],
   "source": [
    "engine_type = df[['engine-type']]\n",
    "engine_type = pd.get_dummies(df['engine-type'],drop_first = True,sparse = False)\n",
    "engine_type.head()\n",
    "type(engine_type)"
   ]
  },
  {
   "cell_type": "code",
   "execution_count": 38,
   "id": "27e71e81",
   "metadata": {},
   "outputs": [
    {
     "data": {
      "text/html": [
       "<div>\n",
       "<style scoped>\n",
       "    .dataframe tbody tr th:only-of-type {\n",
       "        vertical-align: middle;\n",
       "    }\n",
       "\n",
       "    .dataframe tbody tr th {\n",
       "        vertical-align: top;\n",
       "    }\n",
       "\n",
       "    .dataframe thead th {\n",
       "        text-align: right;\n",
       "    }\n",
       "</style>\n",
       "<table border=\"1\" class=\"dataframe\">\n",
       "  <thead>\n",
       "    <tr style=\"text-align: right;\">\n",
       "      <th></th>\n",
       "      <th>dohcv</th>\n",
       "      <th>l</th>\n",
       "      <th>ohc</th>\n",
       "      <th>ohcf</th>\n",
       "      <th>ohcv</th>\n",
       "      <th>rotor</th>\n",
       "    </tr>\n",
       "  </thead>\n",
       "  <tbody>\n",
       "    <tr>\n",
       "      <th>0</th>\n",
       "      <td>0</td>\n",
       "      <td>0</td>\n",
       "      <td>0</td>\n",
       "      <td>0</td>\n",
       "      <td>0</td>\n",
       "      <td>0</td>\n",
       "    </tr>\n",
       "    <tr>\n",
       "      <th>1</th>\n",
       "      <td>0</td>\n",
       "      <td>0</td>\n",
       "      <td>0</td>\n",
       "      <td>0</td>\n",
       "      <td>0</td>\n",
       "      <td>0</td>\n",
       "    </tr>\n",
       "    <tr>\n",
       "      <th>2</th>\n",
       "      <td>0</td>\n",
       "      <td>0</td>\n",
       "      <td>0</td>\n",
       "      <td>0</td>\n",
       "      <td>1</td>\n",
       "      <td>0</td>\n",
       "    </tr>\n",
       "    <tr>\n",
       "      <th>3</th>\n",
       "      <td>0</td>\n",
       "      <td>0</td>\n",
       "      <td>1</td>\n",
       "      <td>0</td>\n",
       "      <td>0</td>\n",
       "      <td>0</td>\n",
       "    </tr>\n",
       "    <tr>\n",
       "      <th>4</th>\n",
       "      <td>0</td>\n",
       "      <td>0</td>\n",
       "      <td>1</td>\n",
       "      <td>0</td>\n",
       "      <td>0</td>\n",
       "      <td>0</td>\n",
       "    </tr>\n",
       "  </tbody>\n",
       "</table>\n",
       "</div>"
      ],
      "text/plain": [
       "   dohcv  l  ohc  ohcf  ohcv  rotor\n",
       "0      0  0    0     0     0      0\n",
       "1      0  0    0     0     0      0\n",
       "2      0  0    0     0     1      0\n",
       "3      0  0    1     0     0      0\n",
       "4      0  0    1     0     0      0"
      ]
     },
     "execution_count": 38,
     "metadata": {},
     "output_type": "execute_result"
    }
   ],
   "source": [
    "engine_type = df[['engine-type']]\n",
    "engine_type = pd.get_dummies(df['engine-type'],drop_first = True,sparse = False)\n",
    "engine_type.head()"
   ]
  },
  {
   "cell_type": "code",
   "execution_count": 39,
   "id": "ca9fee56",
   "metadata": {},
   "outputs": [
    {
     "data": {
      "text/html": [
       "<div>\n",
       "<style scoped>\n",
       "    .dataframe tbody tr th:only-of-type {\n",
       "        vertical-align: middle;\n",
       "    }\n",
       "\n",
       "    .dataframe tbody tr th {\n",
       "        vertical-align: top;\n",
       "    }\n",
       "\n",
       "    .dataframe thead th {\n",
       "        text-align: right;\n",
       "    }\n",
       "</style>\n",
       "<table border=\"1\" class=\"dataframe\">\n",
       "  <thead>\n",
       "    <tr style=\"text-align: right;\">\n",
       "      <th></th>\n",
       "      <th>normalized-losses</th>\n",
       "      <th>make</th>\n",
       "      <th>fuel-type</th>\n",
       "      <th>num-of-doors</th>\n",
       "      <th>wheel-base</th>\n",
       "      <th>length</th>\n",
       "      <th>width</th>\n",
       "      <th>height</th>\n",
       "      <th>curb-weight</th>\n",
       "      <th>engine-size</th>\n",
       "      <th>...</th>\n",
       "      <th>wagon</th>\n",
       "      <th>fwd</th>\n",
       "      <th>rwd</th>\n",
       "      <th>rear</th>\n",
       "      <th>dohcv</th>\n",
       "      <th>l</th>\n",
       "      <th>ohc</th>\n",
       "      <th>ohcf</th>\n",
       "      <th>ohcv</th>\n",
       "      <th>rotor</th>\n",
       "    </tr>\n",
       "  </thead>\n",
       "  <tbody>\n",
       "    <tr>\n",
       "      <th>0</th>\n",
       "      <td>0.0</td>\n",
       "      <td>0</td>\n",
       "      <td>1</td>\n",
       "      <td>2</td>\n",
       "      <td>88.6</td>\n",
       "      <td>168.8</td>\n",
       "      <td>64.1</td>\n",
       "      <td>48.8</td>\n",
       "      <td>2548</td>\n",
       "      <td>130</td>\n",
       "      <td>...</td>\n",
       "      <td>0</td>\n",
       "      <td>0</td>\n",
       "      <td>1</td>\n",
       "      <td>0</td>\n",
       "      <td>0</td>\n",
       "      <td>0</td>\n",
       "      <td>0</td>\n",
       "      <td>0</td>\n",
       "      <td>0</td>\n",
       "      <td>0</td>\n",
       "    </tr>\n",
       "    <tr>\n",
       "      <th>1</th>\n",
       "      <td>0.0</td>\n",
       "      <td>0</td>\n",
       "      <td>1</td>\n",
       "      <td>2</td>\n",
       "      <td>88.6</td>\n",
       "      <td>168.8</td>\n",
       "      <td>64.1</td>\n",
       "      <td>48.8</td>\n",
       "      <td>2548</td>\n",
       "      <td>130</td>\n",
       "      <td>...</td>\n",
       "      <td>0</td>\n",
       "      <td>0</td>\n",
       "      <td>1</td>\n",
       "      <td>0</td>\n",
       "      <td>0</td>\n",
       "      <td>0</td>\n",
       "      <td>0</td>\n",
       "      <td>0</td>\n",
       "      <td>0</td>\n",
       "      <td>0</td>\n",
       "    </tr>\n",
       "    <tr>\n",
       "      <th>2</th>\n",
       "      <td>0.0</td>\n",
       "      <td>0</td>\n",
       "      <td>1</td>\n",
       "      <td>2</td>\n",
       "      <td>94.5</td>\n",
       "      <td>171.2</td>\n",
       "      <td>65.5</td>\n",
       "      <td>52.4</td>\n",
       "      <td>2823</td>\n",
       "      <td>152</td>\n",
       "      <td>...</td>\n",
       "      <td>0</td>\n",
       "      <td>0</td>\n",
       "      <td>1</td>\n",
       "      <td>0</td>\n",
       "      <td>0</td>\n",
       "      <td>0</td>\n",
       "      <td>0</td>\n",
       "      <td>0</td>\n",
       "      <td>1</td>\n",
       "      <td>0</td>\n",
       "    </tr>\n",
       "    <tr>\n",
       "      <th>3</th>\n",
       "      <td>164.0</td>\n",
       "      <td>1</td>\n",
       "      <td>1</td>\n",
       "      <td>1</td>\n",
       "      <td>99.8</td>\n",
       "      <td>176.6</td>\n",
       "      <td>66.2</td>\n",
       "      <td>54.3</td>\n",
       "      <td>2337</td>\n",
       "      <td>109</td>\n",
       "      <td>...</td>\n",
       "      <td>0</td>\n",
       "      <td>1</td>\n",
       "      <td>0</td>\n",
       "      <td>0</td>\n",
       "      <td>0</td>\n",
       "      <td>0</td>\n",
       "      <td>1</td>\n",
       "      <td>0</td>\n",
       "      <td>0</td>\n",
       "      <td>0</td>\n",
       "    </tr>\n",
       "    <tr>\n",
       "      <th>4</th>\n",
       "      <td>164.0</td>\n",
       "      <td>1</td>\n",
       "      <td>1</td>\n",
       "      <td>1</td>\n",
       "      <td>99.4</td>\n",
       "      <td>176.6</td>\n",
       "      <td>66.4</td>\n",
       "      <td>54.3</td>\n",
       "      <td>2824</td>\n",
       "      <td>136</td>\n",
       "      <td>...</td>\n",
       "      <td>0</td>\n",
       "      <td>0</td>\n",
       "      <td>0</td>\n",
       "      <td>0</td>\n",
       "      <td>0</td>\n",
       "      <td>0</td>\n",
       "      <td>1</td>\n",
       "      <td>0</td>\n",
       "      <td>0</td>\n",
       "      <td>0</td>\n",
       "    </tr>\n",
       "  </tbody>\n",
       "</table>\n",
       "<p>5 rows × 28 columns</p>\n",
       "</div>"
      ],
      "text/plain": [
       "   normalized-losses  make  fuel-type  num-of-doors  wheel-base  length  \\\n",
       "0                0.0     0          1             2        88.6   168.8   \n",
       "1                0.0     0          1             2        88.6   168.8   \n",
       "2                0.0     0          1             2        94.5   171.2   \n",
       "3              164.0     1          1             1        99.8   176.6   \n",
       "4              164.0     1          1             1        99.4   176.6   \n",
       "\n",
       "   width  height  curb-weight  engine-size  ...  wagon  fwd  rwd  rear  dohcv  \\\n",
       "0   64.1    48.8         2548          130  ...      0    0    1     0      0   \n",
       "1   64.1    48.8         2548          130  ...      0    0    1     0      0   \n",
       "2   65.5    52.4         2823          152  ...      0    0    1     0      0   \n",
       "3   66.2    54.3         2337          109  ...      0    1    0     0      0   \n",
       "4   66.4    54.3         2824          136  ...      0    0    0     0      0   \n",
       "\n",
       "   l  ohc  ohcf  ohcv  rotor  \n",
       "0  0    0     0     0      0  \n",
       "1  0    0     0     0      0  \n",
       "2  0    0     0     1      0  \n",
       "3  0    1     0     0      0  \n",
       "4  0    1     0     0      0  \n",
       "\n",
       "[5 rows x 28 columns]"
      ]
     },
     "execution_count": 39,
     "metadata": {},
     "output_type": "execute_result"
    }
   ],
   "source": [
    "new_df = pd.concat([df,aspiration,body_style,drive_wheels,engine_location,engine_type],axis = 1)\n",
    "new_df.drop(['aspiration','body-style','drive-wheels','engine-location','engine-type','num-of-cylinders','fuel-system'],\n",
    "        axis = 1,inplace = True)\n",
    "new_df.head()"
   ]
  },
  {
   "cell_type": "code",
   "execution_count": 40,
   "id": "ef69b8ba",
   "metadata": {},
   "outputs": [
    {
     "data": {
      "text/plain": [
       "Index(['normalized-losses', 'make', 'fuel-type', 'num-of-doors', 'wheel-base',\n",
       "       'length', 'width', 'height', 'curb-weight', 'engine-size', 'horsepower',\n",
       "       'city-mpg', 'highway-mpg', 'price', 'turbo', 'hardtop', 'hatchback',\n",
       "       'sedan', 'wagon', 'fwd', 'rwd', 'rear', 'dohcv', 'l', 'ohc', 'ohcf',\n",
       "       'ohcv', 'rotor'],\n",
       "      dtype='object')"
      ]
     },
     "execution_count": 40,
     "metadata": {},
     "output_type": "execute_result"
    }
   ],
   "source": [
    "new_df.columns"
   ]
  },
  {
   "cell_type": "code",
   "execution_count": 41,
   "id": "ab52bb06",
   "metadata": {},
   "outputs": [
    {
     "data": {
      "text/plain": [
       "normalized-losses    float64\n",
       "make                   int32\n",
       "fuel-type              int64\n",
       "num-of-doors           int32\n",
       "wheel-base           float64\n",
       "length               float64\n",
       "width                float64\n",
       "height               float64\n",
       "curb-weight            int64\n",
       "engine-size            int64\n",
       "horsepower           float64\n",
       "city-mpg               int64\n",
       "highway-mpg            int64\n",
       "price                float64\n",
       "turbo                  uint8\n",
       "hardtop                uint8\n",
       "hatchback              uint8\n",
       "sedan                  uint8\n",
       "wagon                  uint8\n",
       "fwd                    uint8\n",
       "rwd                    uint8\n",
       "rear                   uint8\n",
       "dohcv                  uint8\n",
       "l                      uint8\n",
       "ohc                    uint8\n",
       "ohcf                   uint8\n",
       "ohcv                   uint8\n",
       "rotor                  uint8\n",
       "dtype: object"
      ]
     },
     "execution_count": 41,
     "metadata": {},
     "output_type": "execute_result"
    }
   ],
   "source": [
    "new_df.dtypes"
   ]
  },
  {
   "cell_type": "markdown",
   "id": "8c6f0222",
   "metadata": {},
   "source": [
    "# Splitting the data for Testing and Training"
   ]
  },
  {
   "cell_type": "code",
   "execution_count": 42,
   "id": "f1dc1eb1",
   "metadata": {},
   "outputs": [],
   "source": [
    "from sklearn.model_selection import train_test_split\n"
   ]
  },
  {
   "cell_type": "code",
   "execution_count": 43,
   "id": "a7279be5",
   "metadata": {},
   "outputs": [],
   "source": [
    "# spliting the dataset into independent and dependent varaibles\n",
    "\n",
    "X = new_df.drop(['price'],axis = 1)\n",
    "y = new_df['price']\n",
    "\n",
    "# spliting the dataset into train and test data\n",
    "\n",
    "X_train,X_test,y_train,y_test = train_test_split(X,y,test_size = 0.2,random_state = 42)\n"
   ]
  },
  {
   "cell_type": "code",
   "execution_count": 44,
   "id": "e1cfc69c",
   "metadata": {},
   "outputs": [
    {
     "data": {
      "text/html": [
       "<div>\n",
       "<style scoped>\n",
       "    .dataframe tbody tr th:only-of-type {\n",
       "        vertical-align: middle;\n",
       "    }\n",
       "\n",
       "    .dataframe tbody tr th {\n",
       "        vertical-align: top;\n",
       "    }\n",
       "\n",
       "    .dataframe thead th {\n",
       "        text-align: right;\n",
       "    }\n",
       "</style>\n",
       "<table border=\"1\" class=\"dataframe\">\n",
       "  <thead>\n",
       "    <tr style=\"text-align: right;\">\n",
       "      <th></th>\n",
       "      <th>normalized-losses</th>\n",
       "      <th>make</th>\n",
       "      <th>fuel-type</th>\n",
       "      <th>num-of-doors</th>\n",
       "      <th>wheel-base</th>\n",
       "      <th>length</th>\n",
       "      <th>width</th>\n",
       "      <th>height</th>\n",
       "      <th>curb-weight</th>\n",
       "      <th>engine-size</th>\n",
       "      <th>...</th>\n",
       "      <th>wagon</th>\n",
       "      <th>fwd</th>\n",
       "      <th>rwd</th>\n",
       "      <th>rear</th>\n",
       "      <th>dohcv</th>\n",
       "      <th>l</th>\n",
       "      <th>ohc</th>\n",
       "      <th>ohcf</th>\n",
       "      <th>ohcv</th>\n",
       "      <th>rotor</th>\n",
       "    </tr>\n",
       "  </thead>\n",
       "  <tbody>\n",
       "    <tr>\n",
       "      <th>0</th>\n",
       "      <td>0.0</td>\n",
       "      <td>0</td>\n",
       "      <td>1</td>\n",
       "      <td>2</td>\n",
       "      <td>88.6</td>\n",
       "      <td>168.8</td>\n",
       "      <td>64.1</td>\n",
       "      <td>48.8</td>\n",
       "      <td>2548</td>\n",
       "      <td>130</td>\n",
       "      <td>...</td>\n",
       "      <td>0</td>\n",
       "      <td>0</td>\n",
       "      <td>1</td>\n",
       "      <td>0</td>\n",
       "      <td>0</td>\n",
       "      <td>0</td>\n",
       "      <td>0</td>\n",
       "      <td>0</td>\n",
       "      <td>0</td>\n",
       "      <td>0</td>\n",
       "    </tr>\n",
       "    <tr>\n",
       "      <th>1</th>\n",
       "      <td>0.0</td>\n",
       "      <td>0</td>\n",
       "      <td>1</td>\n",
       "      <td>2</td>\n",
       "      <td>88.6</td>\n",
       "      <td>168.8</td>\n",
       "      <td>64.1</td>\n",
       "      <td>48.8</td>\n",
       "      <td>2548</td>\n",
       "      <td>130</td>\n",
       "      <td>...</td>\n",
       "      <td>0</td>\n",
       "      <td>0</td>\n",
       "      <td>1</td>\n",
       "      <td>0</td>\n",
       "      <td>0</td>\n",
       "      <td>0</td>\n",
       "      <td>0</td>\n",
       "      <td>0</td>\n",
       "      <td>0</td>\n",
       "      <td>0</td>\n",
       "    </tr>\n",
       "    <tr>\n",
       "      <th>2</th>\n",
       "      <td>0.0</td>\n",
       "      <td>0</td>\n",
       "      <td>1</td>\n",
       "      <td>2</td>\n",
       "      <td>94.5</td>\n",
       "      <td>171.2</td>\n",
       "      <td>65.5</td>\n",
       "      <td>52.4</td>\n",
       "      <td>2823</td>\n",
       "      <td>152</td>\n",
       "      <td>...</td>\n",
       "      <td>0</td>\n",
       "      <td>0</td>\n",
       "      <td>1</td>\n",
       "      <td>0</td>\n",
       "      <td>0</td>\n",
       "      <td>0</td>\n",
       "      <td>0</td>\n",
       "      <td>0</td>\n",
       "      <td>1</td>\n",
       "      <td>0</td>\n",
       "    </tr>\n",
       "    <tr>\n",
       "      <th>3</th>\n",
       "      <td>164.0</td>\n",
       "      <td>1</td>\n",
       "      <td>1</td>\n",
       "      <td>1</td>\n",
       "      <td>99.8</td>\n",
       "      <td>176.6</td>\n",
       "      <td>66.2</td>\n",
       "      <td>54.3</td>\n",
       "      <td>2337</td>\n",
       "      <td>109</td>\n",
       "      <td>...</td>\n",
       "      <td>0</td>\n",
       "      <td>1</td>\n",
       "      <td>0</td>\n",
       "      <td>0</td>\n",
       "      <td>0</td>\n",
       "      <td>0</td>\n",
       "      <td>1</td>\n",
       "      <td>0</td>\n",
       "      <td>0</td>\n",
       "      <td>0</td>\n",
       "    </tr>\n",
       "    <tr>\n",
       "      <th>4</th>\n",
       "      <td>164.0</td>\n",
       "      <td>1</td>\n",
       "      <td>1</td>\n",
       "      <td>1</td>\n",
       "      <td>99.4</td>\n",
       "      <td>176.6</td>\n",
       "      <td>66.4</td>\n",
       "      <td>54.3</td>\n",
       "      <td>2824</td>\n",
       "      <td>136</td>\n",
       "      <td>...</td>\n",
       "      <td>0</td>\n",
       "      <td>0</td>\n",
       "      <td>0</td>\n",
       "      <td>0</td>\n",
       "      <td>0</td>\n",
       "      <td>0</td>\n",
       "      <td>1</td>\n",
       "      <td>0</td>\n",
       "      <td>0</td>\n",
       "      <td>0</td>\n",
       "    </tr>\n",
       "    <tr>\n",
       "      <th>...</th>\n",
       "      <td>...</td>\n",
       "      <td>...</td>\n",
       "      <td>...</td>\n",
       "      <td>...</td>\n",
       "      <td>...</td>\n",
       "      <td>...</td>\n",
       "      <td>...</td>\n",
       "      <td>...</td>\n",
       "      <td>...</td>\n",
       "      <td>...</td>\n",
       "      <td>...</td>\n",
       "      <td>...</td>\n",
       "      <td>...</td>\n",
       "      <td>...</td>\n",
       "      <td>...</td>\n",
       "      <td>...</td>\n",
       "      <td>...</td>\n",
       "      <td>...</td>\n",
       "      <td>...</td>\n",
       "      <td>...</td>\n",
       "      <td>...</td>\n",
       "    </tr>\n",
       "    <tr>\n",
       "      <th>200</th>\n",
       "      <td>95.0</td>\n",
       "      <td>21</td>\n",
       "      <td>1</td>\n",
       "      <td>1</td>\n",
       "      <td>109.1</td>\n",
       "      <td>188.8</td>\n",
       "      <td>68.9</td>\n",
       "      <td>55.5</td>\n",
       "      <td>2952</td>\n",
       "      <td>141</td>\n",
       "      <td>...</td>\n",
       "      <td>0</td>\n",
       "      <td>0</td>\n",
       "      <td>1</td>\n",
       "      <td>0</td>\n",
       "      <td>0</td>\n",
       "      <td>0</td>\n",
       "      <td>1</td>\n",
       "      <td>0</td>\n",
       "      <td>0</td>\n",
       "      <td>0</td>\n",
       "    </tr>\n",
       "    <tr>\n",
       "      <th>201</th>\n",
       "      <td>95.0</td>\n",
       "      <td>21</td>\n",
       "      <td>1</td>\n",
       "      <td>1</td>\n",
       "      <td>109.1</td>\n",
       "      <td>188.8</td>\n",
       "      <td>68.8</td>\n",
       "      <td>55.5</td>\n",
       "      <td>3049</td>\n",
       "      <td>141</td>\n",
       "      <td>...</td>\n",
       "      <td>0</td>\n",
       "      <td>0</td>\n",
       "      <td>1</td>\n",
       "      <td>0</td>\n",
       "      <td>0</td>\n",
       "      <td>0</td>\n",
       "      <td>1</td>\n",
       "      <td>0</td>\n",
       "      <td>0</td>\n",
       "      <td>0</td>\n",
       "    </tr>\n",
       "    <tr>\n",
       "      <th>202</th>\n",
       "      <td>95.0</td>\n",
       "      <td>21</td>\n",
       "      <td>1</td>\n",
       "      <td>1</td>\n",
       "      <td>109.1</td>\n",
       "      <td>188.8</td>\n",
       "      <td>68.9</td>\n",
       "      <td>55.5</td>\n",
       "      <td>3012</td>\n",
       "      <td>173</td>\n",
       "      <td>...</td>\n",
       "      <td>0</td>\n",
       "      <td>0</td>\n",
       "      <td>1</td>\n",
       "      <td>0</td>\n",
       "      <td>0</td>\n",
       "      <td>0</td>\n",
       "      <td>0</td>\n",
       "      <td>0</td>\n",
       "      <td>1</td>\n",
       "      <td>0</td>\n",
       "    </tr>\n",
       "    <tr>\n",
       "      <th>203</th>\n",
       "      <td>95.0</td>\n",
       "      <td>21</td>\n",
       "      <td>0</td>\n",
       "      <td>1</td>\n",
       "      <td>109.1</td>\n",
       "      <td>188.8</td>\n",
       "      <td>68.9</td>\n",
       "      <td>55.5</td>\n",
       "      <td>3217</td>\n",
       "      <td>145</td>\n",
       "      <td>...</td>\n",
       "      <td>0</td>\n",
       "      <td>0</td>\n",
       "      <td>1</td>\n",
       "      <td>0</td>\n",
       "      <td>0</td>\n",
       "      <td>0</td>\n",
       "      <td>1</td>\n",
       "      <td>0</td>\n",
       "      <td>0</td>\n",
       "      <td>0</td>\n",
       "    </tr>\n",
       "    <tr>\n",
       "      <th>204</th>\n",
       "      <td>95.0</td>\n",
       "      <td>21</td>\n",
       "      <td>1</td>\n",
       "      <td>1</td>\n",
       "      <td>109.1</td>\n",
       "      <td>188.8</td>\n",
       "      <td>68.9</td>\n",
       "      <td>55.5</td>\n",
       "      <td>3062</td>\n",
       "      <td>141</td>\n",
       "      <td>...</td>\n",
       "      <td>0</td>\n",
       "      <td>0</td>\n",
       "      <td>1</td>\n",
       "      <td>0</td>\n",
       "      <td>0</td>\n",
       "      <td>0</td>\n",
       "      <td>1</td>\n",
       "      <td>0</td>\n",
       "      <td>0</td>\n",
       "      <td>0</td>\n",
       "    </tr>\n",
       "  </tbody>\n",
       "</table>\n",
       "<p>205 rows × 27 columns</p>\n",
       "</div>"
      ],
      "text/plain": [
       "     normalized-losses  make  fuel-type  num-of-doors  wheel-base  length  \\\n",
       "0                  0.0     0          1             2        88.6   168.8   \n",
       "1                  0.0     0          1             2        88.6   168.8   \n",
       "2                  0.0     0          1             2        94.5   171.2   \n",
       "3                164.0     1          1             1        99.8   176.6   \n",
       "4                164.0     1          1             1        99.4   176.6   \n",
       "..                 ...   ...        ...           ...         ...     ...   \n",
       "200               95.0    21          1             1       109.1   188.8   \n",
       "201               95.0    21          1             1       109.1   188.8   \n",
       "202               95.0    21          1             1       109.1   188.8   \n",
       "203               95.0    21          0             1       109.1   188.8   \n",
       "204               95.0    21          1             1       109.1   188.8   \n",
       "\n",
       "     width  height  curb-weight  engine-size  ...  wagon  fwd  rwd  rear  \\\n",
       "0     64.1    48.8         2548          130  ...      0    0    1     0   \n",
       "1     64.1    48.8         2548          130  ...      0    0    1     0   \n",
       "2     65.5    52.4         2823          152  ...      0    0    1     0   \n",
       "3     66.2    54.3         2337          109  ...      0    1    0     0   \n",
       "4     66.4    54.3         2824          136  ...      0    0    0     0   \n",
       "..     ...     ...          ...          ...  ...    ...  ...  ...   ...   \n",
       "200   68.9    55.5         2952          141  ...      0    0    1     0   \n",
       "201   68.8    55.5         3049          141  ...      0    0    1     0   \n",
       "202   68.9    55.5         3012          173  ...      0    0    1     0   \n",
       "203   68.9    55.5         3217          145  ...      0    0    1     0   \n",
       "204   68.9    55.5         3062          141  ...      0    0    1     0   \n",
       "\n",
       "     dohcv  l  ohc  ohcf  ohcv  rotor  \n",
       "0        0  0    0     0     0      0  \n",
       "1        0  0    0     0     0      0  \n",
       "2        0  0    0     0     1      0  \n",
       "3        0  0    1     0     0      0  \n",
       "4        0  0    1     0     0      0  \n",
       "..     ... ..  ...   ...   ...    ...  \n",
       "200      0  0    1     0     0      0  \n",
       "201      0  0    1     0     0      0  \n",
       "202      0  0    0     0     1      0  \n",
       "203      0  0    1     0     0      0  \n",
       "204      0  0    1     0     0      0  \n",
       "\n",
       "[205 rows x 27 columns]"
      ]
     },
     "execution_count": 44,
     "metadata": {},
     "output_type": "execute_result"
    }
   ],
   "source": [
    "X"
   ]
  },
  {
   "cell_type": "markdown",
   "id": "7aef575f",
   "metadata": {},
   "source": [
    "# Scaling the features to a fixed range"
   ]
  },
  {
   "cell_type": "code",
   "execution_count": 45,
   "id": "35e10869",
   "metadata": {},
   "outputs": [],
   "source": [
    "from sklearn.preprocessing import StandardScaler"
   ]
  },
  {
   "cell_type": "code",
   "execution_count": 46,
   "id": "d810d31e",
   "metadata": {},
   "outputs": [],
   "source": [
    "ss = StandardScaler()\n",
    "X_train_ss = ss.fit_transform(X_train)\n",
    "X_test_ss = ss.transform(X_test)\n"
   ]
  },
  {
   "cell_type": "markdown",
   "id": "0c58f857",
   "metadata": {},
   "source": [
    "# Principal component Analysis(Reducing the dimensionality of the data)"
   ]
  },
  {
   "cell_type": "code",
   "execution_count": 47,
   "id": "4ef32f62",
   "metadata": {},
   "outputs": [],
   "source": [
    "from sklearn.decomposition import PCA"
   ]
  },
  {
   "cell_type": "code",
   "execution_count": 48,
   "id": "6b25836c",
   "metadata": {},
   "outputs": [
    {
     "data": {
      "text/plain": [
       "array([0.28711861, 0.14496037, 0.07943307, 0.06407588, 0.0584348 ,\n",
       "       0.05005441, 0.04026788, 0.03908914, 0.03804499, 0.035564  ,\n",
       "       0.03004537, 0.02496904, 0.02292149, 0.01623528, 0.01510432,\n",
       "       0.01266043, 0.0104653 , 0.00706428, 0.00693177, 0.00401299,\n",
       "       0.00311361, 0.00265426, 0.00237945, 0.00163901, 0.00132129,\n",
       "       0.00081085, 0.00062811])"
      ]
     },
     "execution_count": 48,
     "metadata": {},
     "output_type": "execute_result"
    }
   ],
   "source": [
    "pca = PCA()\n",
    "X_train = pca.fit_transform(X_train_ss)\n",
    "X_test = pca.transform(X_test_ss)\n",
    "#print(X_train)\n",
    "explained_variance = pca.explained_variance_ratio_\n",
    "explained_variance"
   ]
  },
  {
   "cell_type": "code",
   "execution_count": 49,
   "id": "073f223b",
   "metadata": {},
   "outputs": [
    {
     "data": {
      "text/plain": [
       "'The above explained tells you how much variance can be attributed to each of the principal components. \\nThis is important because while you can convert n - dimensional space to a two-dimensional space, \\nyou lose some of the variance (information) when you do this. By using the attribute explained_variance_ratio_, \\nyou can see that the first principal component contains 63.46 percent of the variance, \\nand the second principal component contains 36.53 percent of the variance. \\nTogether, the two components contain 100% percent of the information.'"
      ]
     },
     "execution_count": 49,
     "metadata": {},
     "output_type": "execute_result"
    }
   ],
   "source": [
    "\"\"\"The above explained tells you how much variance can be attributed to each of the principal components. \n",
    "This is important because while you can convert n - dimensional space to a two-dimensional space, \n",
    "you lose some of the variance (information) when you do this. By using the attribute explained_variance_ratio_, \n",
    "you can see that the first principal component contains 63.46 percent of the variance, \n",
    "and the second principal component contains 36.53 percent of the variance. \n",
    "Together, the two components contain 100% percent of the information.\"\"\""
   ]
  },
  {
   "cell_type": "code",
   "execution_count": 50,
   "id": "3df89ae4",
   "metadata": {},
   "outputs": [],
   "source": [
    "Model_Name = []\n",
    "R2_score   = []\n",
    "Mean_abs_error = []\n",
    "Mean_squared_error = []"
   ]
  },
  {
   "cell_type": "markdown",
   "id": "3016d098",
   "metadata": {},
   "source": [
    "# Linear Regression"
   ]
  },
  {
   "cell_type": "code",
   "execution_count": 51,
   "id": "da2daa1f",
   "metadata": {},
   "outputs": [],
   "source": [
    "from sklearn.linear_model import LinearRegression\n",
    "from sklearn.metrics import mean_absolute_error,r2_score,mean_squared_error\n",
    "import time"
   ]
  },
  {
   "cell_type": "code",
   "execution_count": 52,
   "id": "f6ac9fb1",
   "metadata": {},
   "outputs": [
    {
     "name": "stdout",
     "output_type": "stream",
     "text": [
      "Mean Absolute Error: 2969.7237223112725\n",
      "R2_score           : 0.7289654290911957\n",
      "Mean Squared Error  23422454.75608007\n"
     ]
    }
   ],
   "source": [
    "Model_Name.append(\"LinearRegression\")\n",
    "lr = LinearRegression()\n",
    "start = time.time()\n",
    "lr.fit(X_train,y_train)\n",
    "end = time.time()\n",
    "y_predict = lr.predict(X_test)\n",
    "print(\"Mean Absolute Error:\",mean_absolute_error(y_test,y_predict))\n",
    "print(\"R2_score           :\",r2_score(y_test,y_predict))\n",
    "print(\"Mean Squared Error \",mean_squared_error(y_test,y_predict))\n",
    "R2_score.append(r2_score(y_test,y_predict))\n",
    "Mean_abs_error.append(mean_absolute_error(y_test,y_predict))\n",
    "Mean_squared_error.append(mean_squared_error(y_test,y_predict))\n"
   ]
  },
  {
   "cell_type": "markdown",
   "id": "22e63a86",
   "metadata": {},
   "source": [
    "# SGD Regressor"
   ]
  },
  {
   "cell_type": "code",
   "execution_count": 53,
   "id": "2ffc1821",
   "metadata": {},
   "outputs": [],
   "source": [
    "from sklearn.linear_model import SGDRegressor"
   ]
  },
  {
   "cell_type": "code",
   "execution_count": 54,
   "id": "e0d96ce8",
   "metadata": {},
   "outputs": [
    {
     "name": "stdout",
     "output_type": "stream",
     "text": [
      "Mean Absolute Error: 3021.0615086886996\n",
      "R2_score           : 0.7311630846470736\n",
      "Mean Squared Error  23232536.22408469\n"
     ]
    }
   ],
   "source": [
    "Model_Name.append(\"SGDRegressor\")\n",
    "sgdr = SGDRegressor()\n",
    "sgdr.fit(X_train,y_train)\n",
    "y_predict = sgdr.predict(X_test)\n",
    "print(\"Mean Absolute Error:\",mean_absolute_error(y_test,y_predict))\n",
    "print(\"R2_score           :\",r2_score(y_test,y_predict))\n",
    "print(\"Mean Squared Error \",mean_squared_error(y_test,y_predict))\n",
    "R2_score.append(r2_score(y_test,y_predict))\n",
    "Mean_abs_error.append(mean_absolute_error(y_test,y_predict))\n",
    "Mean_squared_error.append(mean_squared_error(y_test,y_predict))\n",
    "\n"
   ]
  },
  {
   "cell_type": "markdown",
   "id": "01bb7b5c",
   "metadata": {},
   "source": [
    "# KNN Regressor"
   ]
  },
  {
   "cell_type": "code",
   "execution_count": 55,
   "id": "c0e3306d",
   "metadata": {},
   "outputs": [
    {
     "name": "stdout",
     "output_type": "stream",
     "text": [
      "Mean Absolute Error: 2752.9414634146337\n",
      "R2_score           : 0.7731162003240755\n",
      "Mean Squared Error  19607002.586341463\n"
     ]
    }
   ],
   "source": [
    "Model_Name.append(\"KNN Regressor\")\n",
    "from sklearn.neighbors import KNeighborsRegressor\n",
    "\n",
    "knr = KNeighborsRegressor()\n",
    "knr.fit(X_train,y_train)\n",
    "y_predict = knr.predict(X_test)\n",
    "print(\"Mean Absolute Error:\",mean_absolute_error(y_test,y_predict))\n",
    "print(\"R2_score           :\",r2_score(y_test,y_predict))\n",
    "print(\"Mean Squared Error \",mean_squared_error(y_test,y_predict))\n",
    "R2_score.append(r2_score(y_test,y_predict))\n",
    "Mean_abs_error.append(mean_absolute_error(y_test,y_predict))\n",
    "Mean_squared_error.append(mean_squared_error(y_test,y_predict))\n",
    "\n"
   ]
  },
  {
   "cell_type": "markdown",
   "id": "0daa793c",
   "metadata": {},
   "source": [
    "# Decision Tree Regressor"
   ]
  },
  {
   "cell_type": "code",
   "execution_count": 56,
   "id": "defeff11",
   "metadata": {},
   "outputs": [],
   "source": [
    "from sklearn.tree import DecisionTreeRegressor"
   ]
  },
  {
   "cell_type": "code",
   "execution_count": 57,
   "id": "15620b9b",
   "metadata": {},
   "outputs": [
    {
     "name": "stdout",
     "output_type": "stream",
     "text": [
      "Mean Absolute Error: 3394.4634146341464\n",
      "R2_score           : 0.6253148991554511\n",
      "Mean Squared Error  32379798.609756097\n"
     ]
    }
   ],
   "source": [
    "Model_Name.append(\"DecisionTreeRegressor\")\n",
    "dtr = DecisionTreeRegressor()\n",
    "dtr.fit(X_train,y_train)\n",
    "y_predict = dtr.predict(X_test)\n",
    "\n",
    "print(\"Mean Absolute Error:\",mean_absolute_error(y_test,y_predict))\n",
    "print(\"R2_score           :\",r2_score(y_test,y_predict))\n",
    "print(\"Mean Squared Error \",mean_squared_error(y_test,y_predict))\n",
    "R2_score.append(r2_score(y_test,y_predict))\n",
    "Mean_abs_error.append(mean_absolute_error(y_test,y_predict))\n",
    "Mean_squared_error.append(mean_squared_error(y_test,y_predict))\n",
    "\n"
   ]
  },
  {
   "cell_type": "markdown",
   "id": "33e14d66",
   "metadata": {},
   "source": [
    "# Random Forest Regressor"
   ]
  },
  {
   "cell_type": "code",
   "execution_count": 58,
   "id": "2550b653",
   "metadata": {},
   "outputs": [],
   "source": [
    "from sklearn.ensemble import RandomForestRegressor\n"
   ]
  },
  {
   "cell_type": "code",
   "execution_count": 59,
   "id": "4723a6b8",
   "metadata": {},
   "outputs": [
    {
     "name": "stdout",
     "output_type": "stream",
     "text": [
      "Mean Absolute Error: 2839.1918699186995\n",
      "R2_score : 0.7452572445184489\n",
      "Mean Squared Error  22014537.277288623\n"
     ]
    }
   ],
   "source": [
    "Model_Name.append(\"RandomForestRegressor\")\n",
    "rfg = RandomForestRegressor() \n",
    "rfg.fit(X_train,y_train) \n",
    "y_predict = rfg.predict(X_test)\n",
    "print(\"Mean Absolute Error:\",mean_absolute_error(y_test,y_predict)) \n",
    "print(\"R2_score :\",r2_score(y_test,y_predict)) \n",
    "print(\"Mean Squared Error \",mean_squared_error(y_test,y_predict)) \n",
    "R2_score.append(r2_score(y_test,y_predict)) \n",
    "Mean_abs_error.append(mean_absolute_error(y_test,y_predict)) \n",
    "Mean_squared_error.append(mean_squared_error(y_test,y_predict))"
   ]
  },
  {
   "cell_type": "markdown",
   "id": "2444482a",
   "metadata": {},
   "source": [
    "# visualisation of R2_score and Mean_absolute error and Mean_squared_error"
   ]
  },
  {
   "cell_type": "code",
   "execution_count": 60,
   "id": "6d329f31",
   "metadata": {},
   "outputs": [
    {
     "data": {
      "image/png": "[encoded data removed]",
      "text/plain": [
       "<Figure size 640x480 with 1 Axes>"
      ]
     },
     "metadata": {},
     "output_type": "display_data"
    }
   ],
   "source": [
    "plt.barh(Model_Name, R2_score,\n",
    "        height = 0.1, color = \"hotpink\")\n",
    " \n",
    "plt.xlabel(\"R2_score\")\n",
    "plt.ylabel(\"Model_Name\")\n",
    "plt.title(\"R2 score on different models\")\n",
    "plt.show()"
   ]
  },
  {
   "cell_type": "code",
   "execution_count": 61,
   "id": "f15b935a",
   "metadata": {},
   "outputs": [
    {
     "data": {
      "image/png": "[encoded data removed]",
      "text/plain": [
       "<Figure size 640x480 with 1 Axes>"
      ]
     },
     "metadata": {},
     "output_type": "display_data"
    }
   ],
   "source": [
    "plt.barh(Model_Name,   Mean_abs_error,\n",
    "        height = 0.1,color = \"hotpink\")\n",
    " \n",
    "plt.xlabel(\"Mean Absolute Error\")\n",
    "plt.ylabel(\"Model_Name\")\n",
    "plt.title(\"Mean absolute error on different models\")\n",
    "plt.show()"
   ]
  },
  {
   "cell_type": "code",
   "execution_count": 62,
   "id": "98d8ef57",
   "metadata": {},
   "outputs": [
    {
     "data": {
      "image/png": "[encoded data removed]",
      "text/plain": [
       "<Figure size 640x480 with 1 Axes>"
      ]
     },
     "metadata": {},
     "output_type": "display_data"
    }
   ],
   "source": [
    "plt.barh(Model_Name, Mean_squared_error,\n",
    "        height = 0.1, color = \"hotpink\")\n",
    " \n",
    "plt.xlabel(\"Mean squared error\")\n",
    "plt.ylabel(\"Model_Name\")\n",
    "plt.title(\"Mean squared error on different models\")\n",
    "plt.show()"
   ]
  },
  {
   "cell_type": "code",
   "execution_count": 63,
   "id": "c8b43675",
   "metadata": {},
   "outputs": [
    {
     "name": "stdout",
     "output_type": "stream",
     "text": [
      "['LinearRegression', 'SGDRegressor', 'KNN Regressor', 'DecisionTreeRegressor', 'RandomForestRegressor']\n"
     ]
    }
   ],
   "source": [
    "print(Model_Name)"
   ]
  },
  {
   "cell_type": "code",
   "execution_count": 64,
   "id": "1c1d3212",
   "metadata": {},
   "outputs": [
    {
     "name": "stdout",
     "output_type": "stream",
     "text": [
      "[2969.7237223112725, 3021.0615086886996, 2752.9414634146337, 3394.4634146341464, 2839.1918699186995]\n"
     ]
    }
   ],
   "source": [
    "print(Mean_abs_error)"
   ]
  },
  {
   "cell_type": "markdown",
   "id": "7ddeb53f",
   "metadata": {},
   "source": [
    "# Hyper parameter tuning for top 2 models"
   ]
  },
  {
   "cell_type": "code",
   "execution_count": 65,
   "id": "fc011302",
   "metadata": {},
   "outputs": [],
   "source": [
    "Model_Name = []\n",
    "R2_score_tuned   = []\n",
    "Mean_abs_error_tuned = []\n",
    "Mean_squared_error_tuned = []"
   ]
  },
  {
   "cell_type": "code",
   "execution_count": 66,
   "id": "2d42ebab",
   "metadata": {},
   "outputs": [],
   "source": [
    "# Hyper parameter tuning for DecisionTreeRegressor\n",
    "from sklearn.model_selection import GridSearchCV\n"
   ]
  },
  {
   "cell_type": "code",
   "execution_count": 67,
   "id": "b39fd659",
   "metadata": {},
   "outputs": [],
   "source": [
    "Model_Name.append(\"DecisionTreeRegressor\")\n",
    "parameters={\"splitter\":[\"best\",\"random\"],\n",
    "            \"max_depth\" : [1,3,5,7,9,11,12],\n",
    "           \"min_samples_leaf\":[1,2,3,4,5,6,7,8,9,10],\n",
    "           \"min_weight_fraction_leaf\":[0.1,0.2,0.3,0.4,0.5,0.6,0.7,0.8,0.9],\n",
    "           \"max_features\":[\"auto\",\"log2\",\"sqrt\",None],\n",
    "           \"max_leaf_nodes\":[None,10,20,30,40,50,60,70,80,90] }\n"
   ]
  },
  {
   "cell_type": "code",
   "execution_count": 68,
   "id": "137d2afa",
   "metadata": {},
   "outputs": [
    {
     "data": {
      "text/plain": [
       "{'max_depth': 11,\n",
       " 'max_features': 'auto',\n",
       " 'max_leaf_nodes': 40,\n",
       " 'min_samples_leaf': 3,\n",
       " 'min_weight_fraction_leaf': 0.1,\n",
       " 'splitter': 'random'}"
      ]
     },
     "execution_count": 68,
     "metadata": {},
     "output_type": "execute_result"
    }
   ],
   "source": [
    "gs = GridSearchCV(dtr,parameters)\n",
    "gs.fit(X_train,y_train)\n",
    "gs.best_params_"
   ]
  },
  {
   "cell_type": "code",
   "execution_count": 69,
   "id": "8ce1ab57",
   "metadata": {},
   "outputs": [
    {
     "data": {
      "text/html": [
       "<style>#sk-container-id-1 {color: black;background-color: white;}#sk-container-id-1 pre{padding: 0;}#sk-container-id-1 div.sk-toggleable {background-color: white;}#sk-container-id-1 label.sk-toggleable__label {cursor: pointer;display: block;width: 100%;margin-bottom: 0;padding: 0.3em;box-sizing: border-box;text-align: center;}#sk-container-id-1 label.sk-toggleable__label-arrow:before {content: \"▸\";float: left;margin-right: 0.25em;color: #696969;}#sk-container-id-1 label.sk-toggleable__label-arrow:hover:before {color: black;}#sk-container-id-1 div.sk-estimator:hover label.sk-toggleable__label-arrow:before {color: black;}#sk-container-id-1 div.sk-toggleable__content {max-height: 0;max-width: 0;overflow: hidden;text-align: left;background-color: #f0f8ff;}#sk-container-id-1 div.sk-toggleable__content pre {margin: 0.2em;color: black;border-radius: 0.25em;background-color: #f0f8ff;}#sk-container-id-1 input.sk-toggleable__control:checked~div.sk-toggleable__content {max-height: 200px;max-width: 100%;overflow: auto;}#sk-container-id-1 input.sk-toggleable__control:checked~label.sk-toggleable__label-arrow:before {content: \"▾\";}#sk-container-id-1 div.sk-estimator input.sk-toggleable__control:checked~label.sk-toggleable__label {background-color: #d4ebff;}#sk-container-id-1 div.sk-label input.sk-toggleable__control:checked~label.sk-toggleable__label {background-color: #d4ebff;}#sk-container-id-1 input.sk-hidden--visually {border: 0;clip: rect(1px 1px 1px 1px);clip: rect(1px, 1px, 1px, 1px);height: 1px;margin: -1px;overflow: hidden;padding: 0;position: absolute;width: 1px;}#sk-container-id-1 div.sk-estimator {font-family: monospace;background-color: #f0f8ff;border: 1px dotted black;border-radius: 0.25em;box-sizing: border-box;margin-bottom: 0.5em;}#sk-container-id-1 div.sk-estimator:hover {background-color: #d4ebff;}#sk-container-id-1 div.sk-parallel-item::after {content: \"\";width: 100%;border-bottom: 1px solid gray;flex-grow: 1;}#sk-container-id-1 div.sk-label:hover label.sk-toggleable__label {background-color: #d4ebff;}#sk-container-id-1 div.sk-serial::before {content: \"\";position: absolute;border-left: 1px solid gray;box-sizing: border-box;top: 0;bottom: 0;left: 50%;z-index: 0;}#sk-container-id-1 div.sk-serial {display: flex;flex-direction: column;align-items: center;background-color: white;padding-right: 0.2em;padding-left: 0.2em;position: relative;}#sk-container-id-1 div.sk-item {position: relative;z-index: 1;}#sk-container-id-1 div.sk-parallel {display: flex;align-items: stretch;justify-content: center;background-color: white;position: relative;}#sk-container-id-1 div.sk-item::before, #sk-container-id-1 div.sk-parallel-item::before {content: \"\";position: absolute;border-left: 1px solid gray;box-sizing: border-box;top: 0;bottom: 0;left: 50%;z-index: -1;}#sk-container-id-1 div.sk-parallel-item {display: flex;flex-direction: column;z-index: 1;position: relative;background-color: white;}#sk-container-id-1 div.sk-parallel-item:first-child::after {align-self: flex-end;width: 50%;}#sk-container-id-1 div.sk-parallel-item:last-child::after {align-self: flex-start;width: 50%;}#sk-container-id-1 div.sk-parallel-item:only-child::after {width: 0;}#sk-container-id-1 div.sk-dashed-wrapped {border: 1px dashed gray;margin: 0 0.4em 0.5em 0.4em;box-sizing: border-box;padding-bottom: 0.4em;background-color: white;}#sk-container-id-1 div.sk-label label {font-family: monospace;font-weight: bold;display: inline-block;line-height: 1.2em;}#sk-container-id-1 div.sk-label-container {text-align: center;}#sk-container-id-1 div.sk-container {/* jupyter's `normalize.less` sets `[hidden] { display: none; }` but bootstrap.min.css set `[hidden] { display: none !important; }` so we also need the `!important` here to be able to override the default hidden behavior on the sphinx rendered scikit-learn.org. See: https://github.com/scikit-learn/scikit-learn/issues/21755 */display: inline-block !important;position: relative;}#sk-container-id-1 div.sk-text-repr-fallback {display: none;}</style><div id=\"sk-container-id-1\" class=\"sk-top-container\"><div class=\"sk-text-repr-fallback\"><pre>DecisionTreeRegressor(max_depth=11, max_features=&#x27;auto&#x27;, max_leaf_nodes=40,\n",
       "                      min_samples_leaf=3, min_weight_fraction_leaf=0.1,\n",
       "                      splitter=&#x27;random&#x27;)</pre><b>In a Jupyter environment, please rerun this cell to show the HTML representation or trust the notebook. <br />On GitHub, the HTML representation is unable to render, please try loading this page with nbviewer.org.</b></div><div class=\"sk-container\" hidden><div class=\"sk-item\"><div class=\"sk-estimator sk-toggleable\"><input class=\"sk-toggleable__control sk-hidden--visually\" id=\"sk-estimator-id-1\" type=\"checkbox\" checked><label for=\"sk-estimator-id-1\" class=\"sk-toggleable__label sk-toggleable__label-arrow\">DecisionTreeRegressor</label><div class=\"sk-toggleable__content\"><pre>DecisionTreeRegressor(max_depth=11, max_features=&#x27;auto&#x27;, max_leaf_nodes=40,\n",
       "                      min_samples_leaf=3, min_weight_fraction_leaf=0.1,\n",
       "                      splitter=&#x27;random&#x27;)</pre></div></div></div></div></div>"
      ],
      "text/plain": [
       "DecisionTreeRegressor(max_depth=11, max_features='auto', max_leaf_nodes=40,\n",
       "                      min_samples_leaf=3, min_weight_fraction_leaf=0.1,\n",
       "                      splitter='random')"
      ]
     },
     "execution_count": 69,
     "metadata": {},
     "output_type": "execute_result"
    }
   ],
   "source": [
    "final_model= gs.best_estimator_\n",
    "final_model"
   ]
  },
  {
   "cell_type": "code",
   "execution_count": 70,
   "id": "02c1916f",
   "metadata": {},
   "outputs": [
    {
     "data": {
      "text/html": [
       "<style>#sk-container-id-2 {color: black;background-color: white;}#sk-container-id-2 pre{padding: 0;}#sk-container-id-2 div.sk-toggleable {background-color: white;}#sk-container-id-2 label.sk-toggleable__label {cursor: pointer;display: block;width: 100%;margin-bottom: 0;padding: 0.3em;box-sizing: border-box;text-align: center;}#sk-container-id-2 label.sk-toggleable__label-arrow:before {content: \"▸\";float: left;margin-right: 0.25em;color: #696969;}#sk-container-id-2 label.sk-toggleable__label-arrow:hover:before {color: black;}#sk-container-id-2 div.sk-estimator:hover label.sk-toggleable__label-arrow:before {color: black;}#sk-container-id-2 div.sk-toggleable__content {max-height: 0;max-width: 0;overflow: hidden;text-align: left;background-color: #f0f8ff;}#sk-container-id-2 div.sk-toggleable__content pre {margin: 0.2em;color: black;border-radius: 0.25em;background-color: #f0f8ff;}#sk-container-id-2 input.sk-toggleable__control:checked~div.sk-toggleable__content {max-height: 200px;max-width: 100%;overflow: auto;}#sk-container-id-2 input.sk-toggleable__control:checked~label.sk-toggleable__label-arrow:before {content: \"▾\";}#sk-container-id-2 div.sk-estimator input.sk-toggleable__control:checked~label.sk-toggleable__label {background-color: #d4ebff;}#sk-container-id-2 div.sk-label input.sk-toggleable__control:checked~label.sk-toggleable__label {background-color: #d4ebff;}#sk-container-id-2 input.sk-hidden--visually {border: 0;clip: rect(1px 1px 1px 1px);clip: rect(1px, 1px, 1px, 1px);height: 1px;margin: -1px;overflow: hidden;padding: 0;position: absolute;width: 1px;}#sk-container-id-2 div.sk-estimator {font-family: monospace;background-color: #f0f8ff;border: 1px dotted black;border-radius: 0.25em;box-sizing: border-box;margin-bottom: 0.5em;}#sk-container-id-2 div.sk-estimator:hover {background-color: #d4ebff;}#sk-container-id-2 div.sk-parallel-item::after {content: \"\";width: 100%;border-bottom: 1px solid gray;flex-grow: 1;}#sk-container-id-2 div.sk-label:hover label.sk-toggleable__label {background-color: #d4ebff;}#sk-container-id-2 div.sk-serial::before {content: \"\";position: absolute;border-left: 1px solid gray;box-sizing: border-box;top: 0;bottom: 0;left: 50%;z-index: 0;}#sk-container-id-2 div.sk-serial {display: flex;flex-direction: column;align-items: center;background-color: white;padding-right: 0.2em;padding-left: 0.2em;position: relative;}#sk-container-id-2 div.sk-item {position: relative;z-index: 1;}#sk-container-id-2 div.sk-parallel {display: flex;align-items: stretch;justify-content: center;background-color: white;position: relative;}#sk-container-id-2 div.sk-item::before, #sk-container-id-2 div.sk-parallel-item::before {content: \"\";position: absolute;border-left: 1px solid gray;box-sizing: border-box;top: 0;bottom: 0;left: 50%;z-index: -1;}#sk-container-id-2 div.sk-parallel-item {display: flex;flex-direction: column;z-index: 1;position: relative;background-color: white;}#sk-container-id-2 div.sk-parallel-item:first-child::after {align-self: flex-end;width: 50%;}#sk-container-id-2 div.sk-parallel-item:last-child::after {align-self: flex-start;width: 50%;}#sk-container-id-2 div.sk-parallel-item:only-child::after {width: 0;}#sk-container-id-2 div.sk-dashed-wrapped {border: 1px dashed gray;margin: 0 0.4em 0.5em 0.4em;box-sizing: border-box;padding-bottom: 0.4em;background-color: white;}#sk-container-id-2 div.sk-label label {font-family: monospace;font-weight: bold;display: inline-block;line-height: 1.2em;}#sk-container-id-2 div.sk-label-container {text-align: center;}#sk-container-id-2 div.sk-container {/* jupyter's `normalize.less` sets `[hidden] { display: none; }` but bootstrap.min.css set `[hidden] { display: none !important; }` so we also need the `!important` here to be able to override the default hidden behavior on the sphinx rendered scikit-learn.org. See: https://github.com/scikit-learn/scikit-learn/issues/21755 */display: inline-block !important;position: relative;}#sk-container-id-2 div.sk-text-repr-fallback {display: none;}</style><div id=\"sk-container-id-2\" class=\"sk-top-container\"><div class=\"sk-text-repr-fallback\"><pre>GridSearchCV(estimator=DecisionTreeRegressor(),\n",
       "             param_grid={&#x27;max_depth&#x27;: [1, 3, 5, 7, 9, 11, 12],\n",
       "                         &#x27;max_features&#x27;: [&#x27;auto&#x27;, &#x27;log2&#x27;, &#x27;sqrt&#x27;, None],\n",
       "                         &#x27;max_leaf_nodes&#x27;: [None, 10, 20, 30, 40, 50, 60, 70,\n",
       "                                            80, 90],\n",
       "                         &#x27;min_samples_leaf&#x27;: [1, 2, 3, 4, 5, 6, 7, 8, 9, 10],\n",
       "                         &#x27;min_weight_fraction_leaf&#x27;: [0.1, 0.2, 0.3, 0.4, 0.5,\n",
       "                                                      0.6, 0.7, 0.8, 0.9],\n",
       "                         &#x27;splitter&#x27;: [&#x27;best&#x27;, &#x27;random&#x27;]})</pre><b>In a Jupyter environment, please rerun this cell to show the HTML representation or trust the notebook. <br />On GitHub, the HTML representation is unable to render, please try loading this page with nbviewer.org.</b></div><div class=\"sk-container\" hidden><div class=\"sk-item sk-dashed-wrapped\"><div class=\"sk-label-container\"><div class=\"sk-label sk-toggleable\"><input class=\"sk-toggleable__control sk-hidden--visually\" id=\"sk-estimator-id-2\" type=\"checkbox\" ><label for=\"sk-estimator-id-2\" class=\"sk-toggleable__label sk-toggleable__label-arrow\">GridSearchCV</label><div class=\"sk-toggleable__content\"><pre>GridSearchCV(estimator=DecisionTreeRegressor(),\n",
       "             param_grid={&#x27;max_depth&#x27;: [1, 3, 5, 7, 9, 11, 12],\n",
       "                         &#x27;max_features&#x27;: [&#x27;auto&#x27;, &#x27;log2&#x27;, &#x27;sqrt&#x27;, None],\n",
       "                         &#x27;max_leaf_nodes&#x27;: [None, 10, 20, 30, 40, 50, 60, 70,\n",
       "                                            80, 90],\n",
       "                         &#x27;min_samples_leaf&#x27;: [1, 2, 3, 4, 5, 6, 7, 8, 9, 10],\n",
       "                         &#x27;min_weight_fraction_leaf&#x27;: [0.1, 0.2, 0.3, 0.4, 0.5,\n",
       "                                                      0.6, 0.7, 0.8, 0.9],\n",
       "                         &#x27;splitter&#x27;: [&#x27;best&#x27;, &#x27;random&#x27;]})</pre></div></div></div><div class=\"sk-parallel\"><div class=\"sk-parallel-item\"><div class=\"sk-item\"><div class=\"sk-label-container\"><div class=\"sk-label sk-toggleable\"><input class=\"sk-toggleable__control sk-hidden--visually\" id=\"sk-estimator-id-3\" type=\"checkbox\" ><label for=\"sk-estimator-id-3\" class=\"sk-toggleable__label sk-toggleable__label-arrow\">estimator: DecisionTreeRegressor</label><div class=\"sk-toggleable__content\"><pre>DecisionTreeRegressor()</pre></div></div></div><div class=\"sk-serial\"><div class=\"sk-item\"><div class=\"sk-estimator sk-toggleable\"><input class=\"sk-toggleable__control sk-hidden--visually\" id=\"sk-estimator-id-4\" type=\"checkbox\" ><label for=\"sk-estimator-id-4\" class=\"sk-toggleable__label sk-toggleable__label-arrow\">DecisionTreeRegressor</label><div class=\"sk-toggleable__content\"><pre>DecisionTreeRegressor()</pre></div></div></div></div></div></div></div></div></div></div>"
      ],
      "text/plain": [
       "GridSearchCV(estimator=DecisionTreeRegressor(),\n",
       "             param_grid={'max_depth': [1, 3, 5, 7, 9, 11, 12],\n",
       "                         'max_features': ['auto', 'log2', 'sqrt', None],\n",
       "                         'max_leaf_nodes': [None, 10, 20, 30, 40, 50, 60, 70,\n",
       "                                            80, 90],\n",
       "                         'min_samples_leaf': [1, 2, 3, 4, 5, 6, 7, 8, 9, 10],\n",
       "                         'min_weight_fraction_leaf': [0.1, 0.2, 0.3, 0.4, 0.5,\n",
       "                                                      0.6, 0.7, 0.8, 0.9],\n",
       "                         'splitter': ['best', 'random']})"
      ]
     },
     "execution_count": 70,
     "metadata": {},
     "output_type": "execute_result"
    }
   ],
   "source": [
    "# applying the best parameters to the model\n",
    "\n",
    "dtr = DecisionTreeRegressor(max_depth=11, max_features='auto', max_leaf_nodes=40,\n",
    "                      min_samples_leaf=3, min_weight_fraction_leaf=0.1,\n",
    "                      splitter='random')\n",
    "gs.fit(X_train,y_train)"
   ]
  },
  {
   "cell_type": "code",
   "execution_count": 71,
   "id": "ec3b948e",
   "metadata": {},
   "outputs": [
    {
     "name": "stdout",
     "output_type": "stream",
     "text": [
      "Mean Absolute Error: 3793.0710399356735\n",
      "R2_score           : 0.5587530027600072\n",
      "Mean Squared Error  22014537.277288623\n"
     ]
    }
   ],
   "source": [
    "gs.score(X_test,y_test)\n",
    "pred = gs.predict(X_test)\n",
    "print(\"Mean Absolute Error:\",mean_absolute_error(y_test,pred))\n",
    "print(\"R2_score           :\",r2_score(y_test,pred))\n",
    "print(\"Mean Squared Error \",mean_squared_error(y_test,y_predict)) \n",
    "R2_score_tuned.append(r2_score(y_test,y_predict)) \n",
    "Mean_abs_error_tuned.append(mean_absolute_error(y_test,y_predict)) \n",
    "Mean_squared_error_tuned.append(mean_squared_error(y_test,y_predict))"
   ]
  },
  {
   "cell_type": "markdown",
   "id": "acb0fb40",
   "metadata": {},
   "source": [
    "# hyper parameter tuning for RandomForestRegressor"
   ]
  },
  {
   "cell_type": "code",
   "execution_count": 72,
   "id": "bb7ff268",
   "metadata": {},
   "outputs": [],
   "source": [
    "from sklearn.model_selection import RandomizedSearchCV"
   ]
  },
  {
   "cell_type": "code",
   "execution_count": 73,
   "id": "c9b8cc64",
   "metadata": {},
   "outputs": [],
   "source": [
    "Model_Name.append(\"Random Forest Regressor\")\n",
    "random_grid = {'n_estimators':[int(x) for x in np.linspace(start = 200, stop = 2000, num = 10)],\n",
    "               'max_features': ['auto', 'sqrt'],\n",
    "               'max_depth': [1,3,5,7,9,11,12],\n",
    "               'min_samples_split': [2,5,10],\n",
    "               'min_samples_leaf': [1,2,4],\n",
    "               'bootstrap':[True,False]}"
   ]
  },
  {
   "cell_type": "code",
   "execution_count": 74,
   "id": "30a2557d",
   "metadata": {},
   "outputs": [
    {
     "data": {
      "text/plain": [
       "{'n_estimators': 1800,\n",
       " 'min_samples_split': 5,\n",
       " 'min_samples_leaf': 4,\n",
       " 'max_features': 'auto',\n",
       " 'max_depth': 12,\n",
       " 'bootstrap': True}"
      ]
     },
     "execution_count": 74,
     "metadata": {},
     "output_type": "execute_result"
    }
   ],
   "source": [
    "gs = RandomizedSearchCV(rfg,random_grid)\n",
    "gs.fit(X_train,y_train)\n",
    "gs.best_params_"
   ]
  },
  {
   "cell_type": "code",
   "execution_count": 75,
   "id": "85654539",
   "metadata": {},
   "outputs": [
    {
     "data": {
      "text/html": [
       "<style>#sk-container-id-3 {color: black;background-color: white;}#sk-container-id-3 pre{padding: 0;}#sk-container-id-3 div.sk-toggleable {background-color: white;}#sk-container-id-3 label.sk-toggleable__label {cursor: pointer;display: block;width: 100%;margin-bottom: 0;padding: 0.3em;box-sizing: border-box;text-align: center;}#sk-container-id-3 label.sk-toggleable__label-arrow:before {content: \"▸\";float: left;margin-right: 0.25em;color: #696969;}#sk-container-id-3 label.sk-toggleable__label-arrow:hover:before {color: black;}#sk-container-id-3 div.sk-estimator:hover label.sk-toggleable__label-arrow:before {color: black;}#sk-container-id-3 div.sk-toggleable__content {max-height: 0;max-width: 0;overflow: hidden;text-align: left;background-color: #f0f8ff;}#sk-container-id-3 div.sk-toggleable__content pre {margin: 0.2em;color: black;border-radius: 0.25em;background-color: #f0f8ff;}#sk-container-id-3 input.sk-toggleable__control:checked~div.sk-toggleable__content {max-height: 200px;max-width: 100%;overflow: auto;}#sk-container-id-3 input.sk-toggleable__control:checked~label.sk-toggleable__label-arrow:before {content: \"▾\";}#sk-container-id-3 div.sk-estimator input.sk-toggleable__control:checked~label.sk-toggleable__label {background-color: #d4ebff;}#sk-container-id-3 div.sk-label input.sk-toggleable__control:checked~label.sk-toggleable__label {background-color: #d4ebff;}#sk-container-id-3 input.sk-hidden--visually {border: 0;clip: rect(1px 1px 1px 1px);clip: rect(1px, 1px, 1px, 1px);height: 1px;margin: -1px;overflow: hidden;padding: 0;position: absolute;width: 1px;}#sk-container-id-3 div.sk-estimator {font-family: monospace;background-color: #f0f8ff;border: 1px dotted black;border-radius: 0.25em;box-sizing: border-box;margin-bottom: 0.5em;}#sk-container-id-3 div.sk-estimator:hover {background-color: #d4ebff;}#sk-container-id-3 div.sk-parallel-item::after {content: \"\";width: 100%;border-bottom: 1px solid gray;flex-grow: 1;}#sk-container-id-3 div.sk-label:hover label.sk-toggleable__label {background-color: #d4ebff;}#sk-container-id-3 div.sk-serial::before {content: \"\";position: absolute;border-left: 1px solid gray;box-sizing: border-box;top: 0;bottom: 0;left: 50%;z-index: 0;}#sk-container-id-3 div.sk-serial {display: flex;flex-direction: column;align-items: center;background-color: white;padding-right: 0.2em;padding-left: 0.2em;position: relative;}#sk-container-id-3 div.sk-item {position: relative;z-index: 1;}#sk-container-id-3 div.sk-parallel {display: flex;align-items: stretch;justify-content: center;background-color: white;position: relative;}#sk-container-id-3 div.sk-item::before, #sk-container-id-3 div.sk-parallel-item::before {content: \"\";position: absolute;border-left: 1px solid gray;box-sizing: border-box;top: 0;bottom: 0;left: 50%;z-index: -1;}#sk-container-id-3 div.sk-parallel-item {display: flex;flex-direction: column;z-index: 1;position: relative;background-color: white;}#sk-container-id-3 div.sk-parallel-item:first-child::after {align-self: flex-end;width: 50%;}#sk-container-id-3 div.sk-parallel-item:last-child::after {align-self: flex-start;width: 50%;}#sk-container-id-3 div.sk-parallel-item:only-child::after {width: 0;}#sk-container-id-3 div.sk-dashed-wrapped {border: 1px dashed gray;margin: 0 0.4em 0.5em 0.4em;box-sizing: border-box;padding-bottom: 0.4em;background-color: white;}#sk-container-id-3 div.sk-label label {font-family: monospace;font-weight: bold;display: inline-block;line-height: 1.2em;}#sk-container-id-3 div.sk-label-container {text-align: center;}#sk-container-id-3 div.sk-container {/* jupyter's `normalize.less` sets `[hidden] { display: none; }` but bootstrap.min.css set `[hidden] { display: none !important; }` so we also need the `!important` here to be able to override the default hidden behavior on the sphinx rendered scikit-learn.org. See: https://github.com/scikit-learn/scikit-learn/issues/21755 */display: inline-block !important;position: relative;}#sk-container-id-3 div.sk-text-repr-fallback {display: none;}</style><div id=\"sk-container-id-3\" class=\"sk-top-container\"><div class=\"sk-text-repr-fallback\"><pre>RandomForestRegressor(max_depth=12, max_features=&#x27;auto&#x27;, min_samples_leaf=4,\n",
       "                      min_samples_split=5, n_estimators=1800)</pre><b>In a Jupyter environment, please rerun this cell to show the HTML representation or trust the notebook. <br />On GitHub, the HTML representation is unable to render, please try loading this page with nbviewer.org.</b></div><div class=\"sk-container\" hidden><div class=\"sk-item\"><div class=\"sk-estimator sk-toggleable\"><input class=\"sk-toggleable__control sk-hidden--visually\" id=\"sk-estimator-id-5\" type=\"checkbox\" checked><label for=\"sk-estimator-id-5\" class=\"sk-toggleable__label sk-toggleable__label-arrow\">RandomForestRegressor</label><div class=\"sk-toggleable__content\"><pre>RandomForestRegressor(max_depth=12, max_features=&#x27;auto&#x27;, min_samples_leaf=4,\n",
       "                      min_samples_split=5, n_estimators=1800)</pre></div></div></div></div></div>"
      ],
      "text/plain": [
       "RandomForestRegressor(max_depth=12, max_features='auto', min_samples_leaf=4,\n",
       "                      min_samples_split=5, n_estimators=1800)"
      ]
     },
     "execution_count": 75,
     "metadata": {},
     "output_type": "execute_result"
    }
   ],
   "source": [
    "final_model= gs.best_estimator_\n",
    "final_model"
   ]
  },
  {
   "cell_type": "code",
   "execution_count": 77,
   "id": "e42bca37",
   "metadata": {},
   "outputs": [
    {
     "name": "stdout",
     "output_type": "stream",
     "text": [
      "Mean Absolute Error: 3016.115095670311\n",
      "R2_score : 0.720911577017185\n",
      "Mean Squared Error  24118458.166948076\n"
     ]
    }
   ],
   "source": [
    "# applying the best parameters to the random forest model\n",
    "\n",
    "rfg = RandomForestRegressor(max_depth=12, max_features='auto', min_samples_leaf=4,\n",
    "                      min_samples_split=5, n_estimators=1800) \n",
    "rfg.fit(X_train,y_train) \n",
    "y_predict = rfg.predict(X_test)\n",
    "print(\"Mean Absolute Error:\",mean_absolute_error(y_test,y_predict)) \n",
    "print(\"R2_score :\",r2_score(y_test,y_predict)) \n",
    "print(\"Mean Squared Error \",mean_squared_error(y_test,y_predict)) \n",
    "R2_score_tuned.append(r2_score(y_test,y_predict)) \n",
    "Mean_abs_error_tuned.append(mean_absolute_error(y_test,y_predict)) \n",
    "Mean_squared_error_tuned.append(mean_squared_error(y_test,y_predict))"
   ]
  },
  {
   "cell_type": "markdown",
   "id": "af91a51a",
   "metadata": {},
   "source": [
    "# Final Model : Random forest regressor gives the maximum R2 score of 72%."
   ]
  },
  {
   "cell_type": "code",
   "execution_count": null,
   "id": "1487dd01",
   "metadata": {},
   "outputs": [],
   "source": []
  }
 ],
 "metadata": {
  "kernelspec": {
   "display_name": "Python 3 (ipykernel)",
   "language": "python",
   "name": "python3"
  },
  "language_info": {
   "codemirror_mode": {
    "name": "ipython",
    "version": 3
   },
   "file_extension": ".py",
   "mimetype": "text/x-python",
   "name": "python",
   "nbconvert_exporter": "python",
   "pygments_lexer": "ipython3",
   "version": "3.10.7"
  }
 },
 "nbformat": 4,
 "nbformat_minor": 5
}
